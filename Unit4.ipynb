{
 "cells": [
  {
   "cell_type": "code",
   "execution_count": 1,
   "metadata": {},
   "outputs": [
    {
     "name": "stderr",
     "output_type": "stream",
     "text": [
      "Warning message:\n",
      "\"package 'MASS' was built under R version 3.6.3\""
     ]
    }
   ],
   "source": [
    "library(MASS) # Load MASS package\n",
    "data<-biopsy # initialize biopsy data\n"
   ]
  },
  {
   "cell_type": "code",
   "execution_count": 2,
   "metadata": {},
   "outputs": [],
   "source": [
    "# Scale function using min-max transform between 0 and 1\n",
    "scale.0.1<-function(x){\n",
    "  (x-min(x,na.rm=TRUE))/(max(x,na.rm=TRUE)-min(x,na.rm=TRUE))\n",
    "}\n"
   ]
  },
  {
   "cell_type": "code",
   "execution_count": 3,
   "metadata": {},
   "outputs": [
    {
     "name": "stdout",
     "output_type": "stream",
     "text": [
      "'data.frame':\t699 obs. of  10 variables:\n",
      " $ V1   : num  0.444 0.444 0.222 0.556 0.333 ...\n",
      " $ V2   : num  0 0.333 0 0.778 0 ...\n",
      " $ V3   : num  0 0.333 0 0.778 0 ...\n",
      " $ V4   : num  0 0.444 0 0 0.222 ...\n",
      " $ V5   : num  0.111 0.667 0.111 0.222 0.111 ...\n",
      " $ V6   : num  0 1 0.111 0.333 0 ...\n",
      " $ V7   : num  0.222 0.222 0.222 0.222 0.222 ...\n",
      " $ V8   : num  0 0.111 0 0.667 0 ...\n",
      " $ V9   : num  0 0 0 0 0 ...\n",
      " $ class: Factor w/ 2 levels \"benign\",\"malignant\": 1 1 1 1 1 2 1 1 1 1 ...\n"
     ]
    },
    {
     "data": {
      "text/html": [
       "16"
      ],
      "text/latex": [
       "16"
      ],
      "text/markdown": [
       "16"
      ],
      "text/plain": [
       "[1] 16"
      ]
     },
     "metadata": {},
     "output_type": "display_data"
    }
   ],
   "source": [
    "# Normalize data\n",
    "norm.data<-data.frame(lapply(data[,2:10], function(x) scale.0.1(x)))\n",
    "norm.data$class<-data$class\n",
    "str(norm.data) # Checking the structure\n",
    "sum(is.na(norm.data)) # Checking the sum\n",
    "norm.data <- norm.data[complete.cases(norm.data),] \n"
   ]
  },
  {
   "cell_type": "code",
   "execution_count": 11,
   "metadata": {},
   "outputs": [
    {
     "name": "stderr",
     "output_type": "stream",
     "text": [
      "Warning message:\n",
      "\"package 'nnet' was built under R version 3.6.3\""
     ]
    }
   ],
   "source": [
    "library(nnet)"
   ]
  },
  {
   "cell_type": "code",
   "execution_count": 4,
   "metadata": {},
   "outputs": [],
   "source": [
    "# Split the dataset to Train and Test\n",
    "set.seed(42)\n",
    "index<-sample(1:nrow(norm.data),round(0.75*nrow(norm.data)),replace=FALSE)\n",
    "train<-norm.data[index,]\n",
    "test<-norm.data[-index,]\n"
   ]
  },
  {
   "cell_type": "code",
   "execution_count": 12,
   "metadata": {},
   "outputs": [],
   "source": [
    "# Function that take a training and test data set and a range of integer corresponding to the number of neurons to be used as parameter.\n",
    "cross.val.nnet<-function(train,test,low_range,high_range){\n",
    "acc<-NULL\n",
    "for (h in low_range:high_range) {\n",
    "temp.nn<-nnet(class~.,size=h,data=train) #train a neural network made with nnet()\n",
    "pred<-predict(temp.nn,test,type=\"class\") # make prediction on test set\n",
    "Table<-table(test$class,pred)\n",
    "accuracy<-sum(diag(Table))/sum(Table) #return the accuracy of the prediction.\n",
    "acc<-c(acc,accuracy)\n",
    "  }\n",
    "return(acc)\n",
    "}\n"
   ]
  },
  {
   "cell_type": "code",
   "execution_count": 13,
   "metadata": {},
   "outputs": [
    {
     "data": {
      "text/html": [
       "<pre class=language-r><code>function (train, test, low_range, high_range) \n",
       "{\n",
       "<span style=white-space:pre-wrap>    acc &lt;- NULL</span>\n",
       "<span style=white-space:pre-wrap>    for (h in low_range:high_range) {</span>\n",
       "<span style=white-space:pre-wrap>        temp.nn &lt;- nnet(class ~ ., size = h, data = train)</span>\n",
       "<span style=white-space:pre-wrap>        pred &lt;- predict(temp.nn, test, type = \"class\")</span>\n",
       "<span style=white-space:pre-wrap>        Table &lt;- table(test$class, pred)</span>\n",
       "<span style=white-space:pre-wrap>        accuracy &lt;- sum(diag(Table))/sum(Table)</span>\n",
       "<span style=white-space:pre-wrap>        acc &lt;- c(acc, accuracy)</span>\n",
       "<span style=white-space:pre-wrap>    }</span>\n",
       "<span style=white-space:pre-wrap>    return(acc)</span>\n",
       "}</code></pre>"
      ],
      "text/latex": [
       "\\begin{minted}{r}\n",
       "function (train, test, low\\_range, high\\_range) \n",
       "\\{\n",
       "    acc <- NULL\n",
       "    for (h in low\\_range:high\\_range) \\{\n",
       "        temp.nn <- nnet(class \\textasciitilde{} ., size = h, data = train)\n",
       "        pred <- predict(temp.nn, test, type = \"class\")\n",
       "        Table <- table(test\\$class, pred)\n",
       "        accuracy <- sum(diag(Table))/sum(Table)\n",
       "        acc <- c(acc, accuracy)\n",
       "    \\}\n",
       "    return(acc)\n",
       "\\}\n",
       "\\end{minted}"
      ],
      "text/markdown": [
       "```r\n",
       "function (train, test, low_range, high_range) \n",
       "{\n",
       "    acc <- NULL\n",
       "    for (h in low_range:high_range) {\n",
       "        temp.nn <- nnet(class ~ ., size = h, data = train)\n",
       "        pred <- predict(temp.nn, test, type = \"class\")\n",
       "        Table <- table(test$class, pred)\n",
       "        accuracy <- sum(diag(Table))/sum(Table)\n",
       "        acc <- c(acc, accuracy)\n",
       "    }\n",
       "    return(acc)\n",
       "}\n",
       "```"
      ],
      "text/plain": [
       "function(train,test,low_range,high_range){\n",
       "acc<-NULL\n",
       "for (h in low_range:high_range) {\n",
       "temp.nn<-nnet(class~.,size=h,data=train) #train a neural network made with nnet()\n",
       "pred<-predict(temp.nn,test,type=\"class\") # make prediction on test set\n",
       "Table<-table(test$class,pred)\n",
       "accuracy<-sum(diag(Table))/sum(Table) #return the accuracy of the prediction.\n",
       "acc<-c(acc,accuracy)\n",
       "  }\n",
       "return(acc)\n",
       "}"
      ]
     },
     "metadata": {},
     "output_type": "display_data"
    }
   ],
   "source": [
    "cross.val.nnet"
   ]
  },
  {
   "cell_type": "code",
   "execution_count": 14,
   "metadata": {},
   "outputs": [
    {
     "name": "stdout",
     "output_type": "stream",
     "text": [
      "# weights:  12\n",
      "initial  value 364.256592 \n",
      "iter  10 value 37.801784\n",
      "iter  20 value 35.137607\n",
      "iter  30 value 34.866657\n",
      "iter  40 value 34.645363\n",
      "iter  50 value 34.346505\n",
      "iter  60 value 34.321919\n",
      "iter  70 value 34.313870\n",
      "iter  80 value 34.257308\n",
      "iter  90 value 34.256719\n",
      "iter 100 value 34.220338\n",
      "final  value 34.220338 \n",
      "stopped after 100 iterations\n",
      "# weights:  23\n",
      "initial  value 335.960256 \n",
      "iter  10 value 55.598548\n",
      "iter  20 value 47.596276\n",
      "iter  30 value 47.516059\n",
      "iter  40 value 47.461438\n",
      "iter  50 value 45.744461\n",
      "iter  60 value 44.832821\n",
      "iter  70 value 44.825953\n",
      "iter  80 value 44.824357\n",
      "final  value 44.823859 \n",
      "converged\n",
      "# weights:  34\n",
      "initial  value 336.224638 \n",
      "iter  10 value 30.674457\n",
      "iter  20 value 26.286168\n",
      "iter  30 value 23.763237\n",
      "iter  40 value 22.796802\n",
      "iter  50 value 22.088646\n",
      "iter  60 value 21.801078\n",
      "iter  70 value 21.631699\n",
      "iter  80 value 21.629902\n",
      "iter  90 value 21.629873\n",
      "iter 100 value 21.629831\n",
      "final  value 21.629831 \n",
      "stopped after 100 iterations\n",
      "# weights:  45\n",
      "initial  value 343.194843 \n",
      "iter  10 value 32.536488\n",
      "iter  20 value 21.186295\n",
      "iter  30 value 0.950104\n",
      "iter  40 value 0.007522\n",
      "iter  50 value 0.000419\n",
      "iter  60 value 0.000329\n",
      "final  value 0.000085 \n",
      "converged\n",
      "# weights:  56\n",
      "initial  value 333.794318 \n",
      "iter  10 value 39.006224\n",
      "iter  20 value 30.519885\n",
      "iter  30 value 27.580937\n",
      "iter  40 value 26.057340\n",
      "iter  50 value 25.446086\n",
      "iter  60 value 25.208240\n",
      "iter  70 value 24.951669\n",
      "iter  80 value 24.742998\n",
      "iter  90 value 23.801433\n",
      "iter 100 value 23.185918\n",
      "final  value 23.185918 \n",
      "stopped after 100 iterations\n",
      "# weights:  67\n",
      "initial  value 316.005706 \n",
      "iter  10 value 40.601215\n",
      "iter  20 value 36.023226\n",
      "iter  30 value 33.604601\n",
      "iter  40 value 30.952472\n",
      "iter  50 value 29.699814\n",
      "iter  60 value 26.415763\n",
      "iter  70 value 26.300500\n",
      "iter  80 value 26.260239\n",
      "iter  90 value 26.215916\n",
      "iter 100 value 26.181763\n",
      "final  value 26.181763 \n",
      "stopped after 100 iterations\n",
      "# weights:  78\n",
      "initial  value 320.615391 \n",
      "iter  10 value 38.081877\n",
      "iter  20 value 31.148635\n",
      "iter  30 value 26.999018\n",
      "iter  40 value 16.830846\n",
      "iter  50 value 10.910508\n",
      "iter  60 value 8.156429\n",
      "iter  70 value 6.575870\n",
      "iter  80 value 5.474706\n",
      "iter  90 value 5.240856\n",
      "iter 100 value 5.220142\n",
      "final  value 5.220142 \n",
      "stopped after 100 iterations\n",
      "# weights:  89\n",
      "initial  value 399.863775 \n",
      "iter  10 value 32.072327\n",
      "iter  20 value 22.995493\n",
      "iter  30 value 12.788729\n",
      "iter  40 value 9.889323\n",
      "iter  50 value 8.702910\n",
      "iter  60 value 8.239865\n",
      "iter  70 value 8.107562\n",
      "iter  80 value 7.946564\n",
      "iter  90 value 7.922508\n",
      "iter 100 value 7.922056\n",
      "final  value 7.922056 \n",
      "stopped after 100 iterations\n",
      "# weights:  100\n",
      "initial  value 311.907056 \n",
      "iter  10 value 34.616100\n",
      "iter  20 value 24.467809\n",
      "iter  30 value 8.434396\n",
      "iter  40 value 2.072351\n",
      "iter  50 value 0.026297\n",
      "iter  60 value 0.006303\n",
      "iter  70 value 0.002634\n",
      "iter  80 value 0.000226\n",
      "iter  90 value 0.000108\n",
      "final  value 0.000094 \n",
      "converged\n"
     ]
    },
    {
     "data": {
      "text/html": [
       "<ol class=list-inline>\n",
       "\t<li>0.964912280701754</li>\n",
       "\t<li>0.95906432748538</li>\n",
       "\t<li>0.95906432748538</li>\n",
       "\t<li>0.953216374269006</li>\n",
       "\t<li>0.964912280701754</li>\n",
       "\t<li>0.964912280701754</li>\n",
       "\t<li>0.935672514619883</li>\n",
       "\t<li>0.95906432748538</li>\n",
       "\t<li>0.95906432748538</li>\n",
       "</ol>\n"
      ],
      "text/latex": [
       "\\begin{enumerate*}\n",
       "\\item 0.964912280701754\n",
       "\\item 0.95906432748538\n",
       "\\item 0.95906432748538\n",
       "\\item 0.953216374269006\n",
       "\\item 0.964912280701754\n",
       "\\item 0.964912280701754\n",
       "\\item 0.935672514619883\n",
       "\\item 0.95906432748538\n",
       "\\item 0.95906432748538\n",
       "\\end{enumerate*}\n"
      ],
      "text/markdown": [
       "1. 0.964912280701754\n",
       "2. 0.95906432748538\n",
       "3. 0.95906432748538\n",
       "4. 0.953216374269006\n",
       "5. 0.964912280701754\n",
       "6. 0.964912280701754\n",
       "7. 0.935672514619883\n",
       "8. 0.95906432748538\n",
       "9. 0.95906432748538\n",
       "\n",
       "\n"
      ],
      "text/plain": [
       "[1] 0.9649123 0.9590643 0.9590643 0.9532164 0.9649123 0.9649123 0.9356725\n",
       "[8] 0.9590643 0.9590643"
      ]
     },
     "metadata": {},
     "output_type": "display_data"
    }
   ],
   "source": [
    "set.seed(42)\n",
    "cross.val.nnet(train,test,1,9) # From the results, we could use 2 or 6 neurons in the hidden layer\n"
   ]
  },
  {
   "cell_type": "code",
   "execution_count": 15,
   "metadata": {},
   "outputs": [
    {
     "name": "stderr",
     "output_type": "stream",
     "text": [
      "Warning message:\n",
      "\"package 'neuralnet' was built under R version 3.6.3\""
     ]
    }
   ],
   "source": [
    "library(neuralnet)  \n",
    "train$class <- as.numeric(train$class)\n",
    "test$class <- as.numeric(test$class)\n",
    "n <- names(train)\n",
    "# This function can only handle numeric value. Can’t deal with factors.\n",
    "f <- as.formula(paste(\"class ~\", paste(n[!n %in% \"class\"], collapse = \" + \"))) \n",
    "set.seed(42)\n",
    "model.neuralnet.1<-neuralnet(f,data=train,hidden=6) # Used 6 neurons\n"
   ]
  },
  {
   "cell_type": "code",
   "execution_count": 16,
   "metadata": {},
   "outputs": [
    {
     "data": {
      "text/plain": [
       "   \n",
       "      1   2   3\n",
       "  1 101  10   0\n",
       "  2  12  47   1"
      ]
     },
     "metadata": {},
     "output_type": "display_data"
    }
   ],
   "source": [
    "# compute() function to make prediction \n",
    "pred.model.1 <- compute(model.neuralnet.1,test[,1:9]) \n",
    "pred.model.1$net.result <-round(pred.model.1$net.result)\n",
    "Table<-table(test$class,pred.model.1$net.result)\n",
    "Table\n"
   ]
  },
  {
   "cell_type": "code",
   "execution_count": 17,
   "metadata": {},
   "outputs": [
    {
     "data": {
      "text/html": [
       "0.865497076023392"
      ],
      "text/latex": [
       "0.865497076023392"
      ],
      "text/markdown": [
       "0.865497076023392"
      ],
      "text/plain": [
       "[1] 0.8654971"
      ]
     },
     "metadata": {},
     "output_type": "display_data"
    }
   ],
   "source": [
    "accuracy<-sum(diag(Table))/sum(Table) # compute the accuracy of your model\n",
    "accuracy\n"
   ]
  },
  {
   "cell_type": "code",
   "execution_count": 18,
   "metadata": {},
   "outputs": [
    {
     "data": {
      "text/plain": [
       "   \n",
       "      1   2\n",
       "  1 105   6\n",
       "  2   4  56"
      ]
     },
     "metadata": {},
     "output_type": "display_data"
    }
   ],
   "source": [
    "set.seed(42)\n",
    "model.neuralnet.2<-neuralnet(f, data=train, hidden=6, algorithm ='rprop-')\n",
    "pred.model.2 <- compute(model.neuralnet.2,test[,1:9])\n",
    "pred.model.2$net.result <-round(pred.model.2$net.result)\n",
    "pred.model.2$net.result[which(pred.model.2$net.result<=1)]<- 1\n",
    "pred.model.2$net.result[which(pred.model.2$net.result>=2)]<- 2\n",
    "Table<-table(test$class,pred.model.2$net.result)\n",
    "Table\n"
   ]
  },
  {
   "cell_type": "code",
   "execution_count": 19,
   "metadata": {},
   "outputs": [
    {
     "data": {
      "text/html": [
       "0.941520467836257"
      ],
      "text/latex": [
       "0.941520467836257"
      ],
      "text/markdown": [
       "0.941520467836257"
      ],
      "text/plain": [
       "[1] 0.9415205"
      ]
     },
     "metadata": {},
     "output_type": "display_data"
    }
   ],
   "source": [
    "accuracy<-sum(diag(Table))/sum(Table)\n",
    "accuracy\n"
   ]
  },
  {
   "cell_type": "code",
   "execution_count": 20,
   "metadata": {},
   "outputs": [
    {
     "data": {
      "text/plain": [
       "   \n",
       "      0   1   2   3\n",
       "  1   1 104   5   1\n",
       "  2   0   4  54   2"
      ]
     },
     "metadata": {},
     "output_type": "display_data"
    }
   ],
   "source": [
    "set.seed(42)\n",
    "model.neuralnet.5<-neuralnet(f, data=train, hidden=6, algorithm ='rprop-', learningrate=0.001)\n",
    "pred.model.5 <- compute(model.neuralnet.5,test[,1:9])\n",
    "pred.model.5$net.result <-round(pred.model.5$net.result)\n",
    "Table<-table(test$class,pred.model.5$net.result)\n",
    "Table\n"
   ]
  },
  {
   "cell_type": "code",
   "execution_count": 21,
   "metadata": {},
   "outputs": [
    {
     "data": {
      "text/plain": [
       "   \n",
       "      1   2\n",
       "  1 105   6\n",
       "  2   4  56"
      ]
     },
     "metadata": {},
     "output_type": "display_data"
    }
   ],
   "source": [
    "pred.model.5$net.result[which(pred.model.5$net.result<=1)]<-1\n",
    "pred.model.5$net.result[which(pred.model.5$net.result>=2)]<-2\n",
    "Table<-table(test$class,pred.model.5$net.result)\n",
    "Table\n"
   ]
  },
  {
   "cell_type": "code",
   "execution_count": 22,
   "metadata": {},
   "outputs": [
    {
     "data": {
      "text/html": [
       "0.941520467836257"
      ],
      "text/latex": [
       "0.941520467836257"
      ],
      "text/markdown": [
       "0.941520467836257"
      ],
      "text/plain": [
       "[1] 0.9415205"
      ]
     },
     "metadata": {},
     "output_type": "display_data"
    }
   ],
   "source": [
    "accuracy<-sum(diag(Table))/sum(Table)\n",
    "accuracy\n"
   ]
  },
  {
   "cell_type": "code",
   "execution_count": 23,
   "metadata": {},
   "outputs": [
    {
     "data": {
      "text/plain": [
       "   \n",
       "      0   1   2   3\n",
       "  1   1 104   5   1\n",
       "  2   0   4  54   2"
      ]
     },
     "metadata": {},
     "output_type": "display_data"
    }
   ],
   "source": [
    "set.seed(42)\n",
    "model.neuralnet.6<-neuralnet(f, data=train, hidden=6, algorithm ='rprop-', learningrate=1)\n",
    "pred.model.6 <- compute(model.neuralnet.6,test[,1:9])\n",
    "pred.model.6$net.result <-round(pred.model.6$net.result)\n",
    "Table<-table(test$class,pred.model.6$net.result)\n",
    "Table\n"
   ]
  },
  {
   "cell_type": "code",
   "execution_count": 24,
   "metadata": {},
   "outputs": [
    {
     "data": {
      "text/plain": [
       "   \n",
       "      1   2   3\n",
       "  1 105   5   1\n",
       "  2   4  54   2"
      ]
     },
     "metadata": {},
     "output_type": "display_data"
    }
   ],
   "source": [
    "pred.model.6$net.result[which(pred.model.6$net.result==0)]<-1\n",
    "Table<-table(test$class,pred.model.6$net.result)\n",
    "Table\n"
   ]
  },
  {
   "cell_type": "code",
   "execution_count": 25,
   "metadata": {},
   "outputs": [
    {
     "data": {
      "text/html": [
       "0.929824561403509"
      ],
      "text/latex": [
       "0.929824561403509"
      ],
      "text/markdown": [
       "0.929824561403509"
      ],
      "text/plain": [
       "[1] 0.9298246"
      ]
     },
     "metadata": {},
     "output_type": "display_data"
    }
   ],
   "source": [
    "accuracy<-sum(diag(Table))/sum(Table)\n",
    "accuracy\n",
    "plot(model.neuralnet.5) # Visual representation of the neural network\n"
   ]
  },
  {
   "cell_type": "code",
   "execution_count": 26,
   "metadata": {},
   "outputs": [],
   "source": [
    "plot(model.neuralnet.5)"
   ]
  },
  {
   "cell_type": "code",
   "execution_count": 27,
   "metadata": {},
   "outputs": [
    {
     "data": {
      "text/plain": [
       "   \n",
       "      1   2\n",
       "  1 107   4\n",
       "  2   4  56"
      ]
     },
     "metadata": {},
     "output_type": "display_data"
    }
   ],
   "source": [
    "# create FF NN with three hidden layers of nine neurons\n",
    "model.neuralnet.7<-neuralnet(f, data=train, hidden=c(9,9,9)) \n",
    "pred.model.7 <- compute(model.neuralnet.7,test[,1:9])\n",
    "pred.model.7$net.result <-round(pred.model.7$net.result) \n",
    "Table<-table(test$class,pred.model.7$net.result) \n",
    "Table\n"
   ]
  },
  {
   "cell_type": "code",
   "execution_count": 28,
   "metadata": {},
   "outputs": [],
   "source": [
    "plot(model.neuralnet.7)# Plot the FF NN of the above"
   ]
  },
  {
   "cell_type": "code",
   "execution_count": null,
   "metadata": {},
   "outputs": [],
   "source": []
  }
 ],
 "metadata": {
  "kernelspec": {
   "display_name": "R",
   "language": "R",
   "name": "ir"
  },
  "language_info": {
   "codemirror_mode": "r",
   "file_extension": ".r",
   "mimetype": "text/x-r-source",
   "name": "R",
   "pygments_lexer": "r",
   "version": "3.6.1"
  }
 },
 "nbformat": 4,
 "nbformat_minor": 4
}
