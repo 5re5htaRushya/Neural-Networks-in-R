{
 "cells": [
  {
   "cell_type": "code",
   "execution_count": 1,
   "metadata": {},
   "outputs": [
    {
     "data": {
      "text/html": [
       "<table>\n",
       "<thead><tr><th scope=col>clientid</th><th scope=col>income</th><th scope=col>age</th><th scope=col>loan</th><th scope=col>LTI</th><th scope=col>default10yr</th></tr></thead>\n",
       "<tbody>\n",
       "\t<tr><td>1           </td><td>66155.93    </td><td>59.01702    </td><td>8106.5321   </td><td>0.1225367512</td><td>0           </td></tr>\n",
       "\t<tr><td>2           </td><td>34415.15    </td><td>48.11715    </td><td>6564.7450   </td><td>0.1907515807</td><td>0           </td></tr>\n",
       "\t<tr><td>3           </td><td>57317.17    </td><td>63.10805    </td><td>8020.9533   </td><td>0.1399397997</td><td>0           </td></tr>\n",
       "\t<tr><td>4           </td><td>42709.53    </td><td>45.75197    </td><td>6103.6423   </td><td>0.1429105321</td><td>0           </td></tr>\n",
       "\t<tr><td>5           </td><td>66952.69    </td><td>18.58434    </td><td>8770.0992   </td><td>0.1309895000</td><td>1           </td></tr>\n",
       "\t<tr><td>6           </td><td>24904.06    </td><td>57.47161    </td><td>  15.4986   </td><td>0.0006223321</td><td>0           </td></tr>\n",
       "</tbody>\n",
       "</table>\n"
      ],
      "text/latex": [
       "\\begin{tabular}{r|llllll}\n",
       " clientid & income & age & loan & LTI & default10yr\\\\\n",
       "\\hline\n",
       "\t 1            & 66155.93     & 59.01702     & 8106.5321    & 0.1225367512 & 0           \\\\\n",
       "\t 2            & 34415.15     & 48.11715     & 6564.7450    & 0.1907515807 & 0           \\\\\n",
       "\t 3            & 57317.17     & 63.10805     & 8020.9533    & 0.1399397997 & 0           \\\\\n",
       "\t 4            & 42709.53     & 45.75197     & 6103.6423    & 0.1429105321 & 0           \\\\\n",
       "\t 5            & 66952.69     & 18.58434     & 8770.0992    & 0.1309895000 & 1           \\\\\n",
       "\t 6            & 24904.06     & 57.47161     &   15.4986    & 0.0006223321 & 0           \\\\\n",
       "\\end{tabular}\n"
      ],
      "text/markdown": [
       "\n",
       "| clientid | income | age | loan | LTI | default10yr |\n",
       "|---|---|---|---|---|---|\n",
       "| 1            | 66155.93     | 59.01702     | 8106.5321    | 0.1225367512 | 0            |\n",
       "| 2            | 34415.15     | 48.11715     | 6564.7450    | 0.1907515807 | 0            |\n",
       "| 3            | 57317.17     | 63.10805     | 8020.9533    | 0.1399397997 | 0            |\n",
       "| 4            | 42709.53     | 45.75197     | 6103.6423    | 0.1429105321 | 0            |\n",
       "| 5            | 66952.69     | 18.58434     | 8770.0992    | 0.1309895000 | 1            |\n",
       "| 6            | 24904.06     | 57.47161     |   15.4986    | 0.0006223321 | 0            |\n",
       "\n"
      ],
      "text/plain": [
       "  clientid income   age      loan      LTI          default10yr\n",
       "1 1        66155.93 59.01702 8106.5321 0.1225367512 0          \n",
       "2 2        34415.15 48.11715 6564.7450 0.1907515807 0          \n",
       "3 3        57317.17 63.10805 8020.9533 0.1399397997 0          \n",
       "4 4        42709.53 45.75197 6103.6423 0.1429105321 0          \n",
       "5 5        66952.69 18.58434 8770.0992 0.1309895000 1          \n",
       "6 6        24904.06 57.47161   15.4986 0.0006223321 0          "
      ]
     },
     "metadata": {},
     "output_type": "display_data"
    }
   ],
   "source": [
    "set.seed(1234567890)\n",
    "dataset <- read.csv(\"creditset.csv\")\n",
    "head(dataset)\n"
   ]
  },
  {
   "cell_type": "code",
   "execution_count": 2,
   "metadata": {},
   "outputs": [],
   "source": [
    "trainset <- dataset[1:800, ] # extract a set to train the NN\n",
    "testset <- dataset[801:2000, ] # select the test set\n"
   ]
  },
  {
   "cell_type": "code",
   "execution_count": 4,
   "metadata": {},
   "outputs": [
    {
     "name": "stderr",
     "output_type": "stream",
     "text": [
      "Warning message:\n",
      "\"package 'neuralnet' was built under R version 3.6.3\""
     ]
    }
   ],
   "source": [
    "library(neuralnet)"
   ]
  },
  {
   "cell_type": "code",
   "execution_count": 5,
   "metadata": {},
   "outputs": [
    {
     "name": "stderr",
     "output_type": "stream",
     "text": [
      "hidden: 4    thresh: 0.1    rep: 1/1    steps:    7266\terror: 0.79202\ttime: 2.15 secs\n"
     ]
    }
   ],
   "source": [
    "## build the neural network (NN)\n",
    "creditnet <- neuralnet(default10yr ~ LTI + age, trainset, hidden = 4, lifesign = \"minimal\", linear.output = FALSE, threshold = 0.1)\n"
   ]
  },
  {
   "cell_type": "code",
   "execution_count": 6,
   "metadata": {},
   "outputs": [
    {
     "data": {
      "image/png": "[encoded data removed]",
      "text/plain": [
       "plot without title"
      ]
     },
     "metadata": {},
     "output_type": "display_data"
    }
   ],
   "source": [
    "## plot the NN\n",
    "plot(creditnet, rep = \"best\")\n"
   ]
  },
  {
   "cell_type": "code",
   "execution_count": 7,
   "metadata": {},
   "outputs": [],
   "source": [
    "## test the resulting output\n",
    "temp_test <- subset(testset, select = c(\"LTI\", \"age\"))\n",
    "creditnet.results <- compute(creditnet, temp_test)\n"
   ]
  },
  {
   "cell_type": "code",
   "execution_count": 8,
   "metadata": {},
   "outputs": [
    {
     "data": {
      "text/html": [
       "<table>\n",
       "<thead><tr><th></th><th scope=col>LTI</th><th scope=col>age</th></tr></thead>\n",
       "<tbody>\n",
       "\t<tr><th scope=row>801</th><td>0.02306809</td><td>25.90645  </td></tr>\n",
       "\t<tr><th scope=row>802</th><td>0.13729705</td><td>40.77431  </td></tr>\n",
       "\t<tr><th scope=row>803</th><td>0.10456985</td><td>32.47351  </td></tr>\n",
       "\t<tr><th scope=row>804</th><td>0.15985046</td><td>53.22813  </td></tr>\n",
       "\t<tr><th scope=row>805</th><td>0.11161430</td><td>46.47915  </td></tr>\n",
       "\t<tr><th scope=row>806</th><td>0.11489364</td><td>47.12737  </td></tr>\n",
       "</tbody>\n",
       "</table>\n"
      ],
      "text/latex": [
       "\\begin{tabular}{r|ll}\n",
       "  & LTI & age\\\\\n",
       "\\hline\n",
       "\t801 & 0.02306809 & 25.90645  \\\\\n",
       "\t802 & 0.13729705 & 40.77431  \\\\\n",
       "\t803 & 0.10456985 & 32.47351  \\\\\n",
       "\t804 & 0.15985046 & 53.22813  \\\\\n",
       "\t805 & 0.11161430 & 46.47915  \\\\\n",
       "\t806 & 0.11489364 & 47.12737  \\\\\n",
       "\\end{tabular}\n"
      ],
      "text/markdown": [
       "\n",
       "| <!--/--> | LTI | age |\n",
       "|---|---|---|\n",
       "| 801 | 0.02306809 | 25.90645   |\n",
       "| 802 | 0.13729705 | 40.77431   |\n",
       "| 803 | 0.10456985 | 32.47351   |\n",
       "| 804 | 0.15985046 | 53.22813   |\n",
       "| 805 | 0.11161430 | 46.47915   |\n",
       "| 806 | 0.11489364 | 47.12737   |\n",
       "\n"
      ],
      "text/plain": [
       "    LTI        age     \n",
       "801 0.02306809 25.90645\n",
       "802 0.13729705 40.77431\n",
       "803 0.10456985 32.47351\n",
       "804 0.15985046 53.22813\n",
       "805 0.11161430 46.47915\n",
       "806 0.11489364 47.12737"
      ]
     },
     "metadata": {},
     "output_type": "display_data"
    }
   ],
   "source": [
    "head(temp_test)"
   ]
  },
  {
   "cell_type": "code",
   "execution_count": 9,
   "metadata": {},
   "outputs": [
    {
     "data": {
      "text/html": [
       "<table>\n",
       "<thead><tr><th></th><th scope=col>actual</th><th scope=col>prediction</th></tr></thead>\n",
       "<tbody>\n",
       "\t<tr><th scope=row>900</th><td>0           </td><td>1.596485e-27</td></tr>\n",
       "\t<tr><th scope=row>901</th><td>0           </td><td>6.516287e-27</td></tr>\n",
       "\t<tr><th scope=row>902</th><td>0           </td><td>1.640440e-11</td></tr>\n",
       "\t<tr><th scope=row>903</th><td>1           </td><td>1.000000e+00</td></tr>\n",
       "\t<tr><th scope=row>904</th><td>0           </td><td>1.381078e-18</td></tr>\n",
       "\t<tr><th scope=row>905</th><td>0           </td><td>5.396363e-17</td></tr>\n",
       "\t<tr><th scope=row>906</th><td>0           </td><td>2.345923e-20</td></tr>\n",
       "\t<tr><th scope=row>907</th><td>1           </td><td>9.581420e-01</td></tr>\n",
       "\t<tr><th scope=row>908</th><td>0           </td><td>2.499230e-01</td></tr>\n",
       "\t<tr><th scope=row>909</th><td>0           </td><td>7.044361e-16</td></tr>\n",
       "\t<tr><th scope=row>910</th><td>0           </td><td>6.082560e-04</td></tr>\n",
       "\t<tr><th scope=row>911</th><td>1           </td><td>1.000000e+00</td></tr>\n",
       "\t<tr><th scope=row>912</th><td>0           </td><td>1.556221e-27</td></tr>\n",
       "\t<tr><th scope=row>913</th><td>1           </td><td>1.000000e+00</td></tr>\n",
       "\t<tr><th scope=row>914</th><td>0           </td><td>3.082538e-31</td></tr>\n",
       "\t<tr><th scope=row>915</th><td>0           </td><td>1.935962e-09</td></tr>\n",
       "</tbody>\n",
       "</table>\n"
      ],
      "text/latex": [
       "\\begin{tabular}{r|ll}\n",
       "  & actual & prediction\\\\\n",
       "\\hline\n",
       "\t900 & 0            & 1.596485e-27\\\\\n",
       "\t901 & 0            & 6.516287e-27\\\\\n",
       "\t902 & 0            & 1.640440e-11\\\\\n",
       "\t903 & 1            & 1.000000e+00\\\\\n",
       "\t904 & 0            & 1.381078e-18\\\\\n",
       "\t905 & 0            & 5.396363e-17\\\\\n",
       "\t906 & 0            & 2.345923e-20\\\\\n",
       "\t907 & 1            & 9.581420e-01\\\\\n",
       "\t908 & 0            & 2.499230e-01\\\\\n",
       "\t909 & 0            & 7.044361e-16\\\\\n",
       "\t910 & 0            & 6.082560e-04\\\\\n",
       "\t911 & 1            & 1.000000e+00\\\\\n",
       "\t912 & 0            & 1.556221e-27\\\\\n",
       "\t913 & 1            & 1.000000e+00\\\\\n",
       "\t914 & 0            & 3.082538e-31\\\\\n",
       "\t915 & 0            & 1.935962e-09\\\\\n",
       "\\end{tabular}\n"
      ],
      "text/markdown": [
       "\n",
       "| <!--/--> | actual | prediction |\n",
       "|---|---|---|\n",
       "| 900 | 0            | 1.596485e-27 |\n",
       "| 901 | 0            | 6.516287e-27 |\n",
       "| 902 | 0            | 1.640440e-11 |\n",
       "| 903 | 1            | 1.000000e+00 |\n",
       "| 904 | 0            | 1.381078e-18 |\n",
       "| 905 | 0            | 5.396363e-17 |\n",
       "| 906 | 0            | 2.345923e-20 |\n",
       "| 907 | 1            | 9.581420e-01 |\n",
       "| 908 | 0            | 2.499230e-01 |\n",
       "| 909 | 0            | 7.044361e-16 |\n",
       "| 910 | 0            | 6.082560e-04 |\n",
       "| 911 | 1            | 1.000000e+00 |\n",
       "| 912 | 0            | 1.556221e-27 |\n",
       "| 913 | 1            | 1.000000e+00 |\n",
       "| 914 | 0            | 3.082538e-31 |\n",
       "| 915 | 0            | 1.935962e-09 |\n",
       "\n"
      ],
      "text/plain": [
       "    actual prediction  \n",
       "900 0      1.596485e-27\n",
       "901 0      6.516287e-27\n",
       "902 0      1.640440e-11\n",
       "903 1      1.000000e+00\n",
       "904 0      1.381078e-18\n",
       "905 0      5.396363e-17\n",
       "906 0      2.345923e-20\n",
       "907 1      9.581420e-01\n",
       "908 0      2.499230e-01\n",
       "909 0      7.044361e-16\n",
       "910 0      6.082560e-04\n",
       "911 1      1.000000e+00\n",
       "912 0      1.556221e-27\n",
       "913 1      1.000000e+00\n",
       "914 0      3.082538e-31\n",
       "915 0      1.935962e-09"
      ]
     },
     "metadata": {},
     "output_type": "display_data"
    },
    {
     "data": {
      "text/html": [
       "<table>\n",
       "<thead><tr><th></th><th scope=col>actual</th><th scope=col>prediction</th></tr></thead>\n",
       "<tbody>\n",
       "\t<tr><th scope=row>900</th><td>0</td><td>0</td></tr>\n",
       "\t<tr><th scope=row>901</th><td>0</td><td>0</td></tr>\n",
       "\t<tr><th scope=row>902</th><td>0</td><td>0</td></tr>\n",
       "\t<tr><th scope=row>903</th><td>1</td><td>1</td></tr>\n",
       "\t<tr><th scope=row>904</th><td>0</td><td>0</td></tr>\n",
       "\t<tr><th scope=row>905</th><td>0</td><td>0</td></tr>\n",
       "\t<tr><th scope=row>906</th><td>0</td><td>0</td></tr>\n",
       "\t<tr><th scope=row>907</th><td>1</td><td>1</td></tr>\n",
       "\t<tr><th scope=row>908</th><td>0</td><td>0</td></tr>\n",
       "\t<tr><th scope=row>909</th><td>0</td><td>0</td></tr>\n",
       "\t<tr><th scope=row>910</th><td>0</td><td>0</td></tr>\n",
       "\t<tr><th scope=row>911</th><td>1</td><td>1</td></tr>\n",
       "\t<tr><th scope=row>912</th><td>0</td><td>0</td></tr>\n",
       "\t<tr><th scope=row>913</th><td>1</td><td>1</td></tr>\n",
       "\t<tr><th scope=row>914</th><td>0</td><td>0</td></tr>\n",
       "\t<tr><th scope=row>915</th><td>0</td><td>0</td></tr>\n",
       "</tbody>\n",
       "</table>\n"
      ],
      "text/latex": [
       "\\begin{tabular}{r|ll}\n",
       "  & actual & prediction\\\\\n",
       "\\hline\n",
       "\t900 & 0 & 0\\\\\n",
       "\t901 & 0 & 0\\\\\n",
       "\t902 & 0 & 0\\\\\n",
       "\t903 & 1 & 1\\\\\n",
       "\t904 & 0 & 0\\\\\n",
       "\t905 & 0 & 0\\\\\n",
       "\t906 & 0 & 0\\\\\n",
       "\t907 & 1 & 1\\\\\n",
       "\t908 & 0 & 0\\\\\n",
       "\t909 & 0 & 0\\\\\n",
       "\t910 & 0 & 0\\\\\n",
       "\t911 & 1 & 1\\\\\n",
       "\t912 & 0 & 0\\\\\n",
       "\t913 & 1 & 1\\\\\n",
       "\t914 & 0 & 0\\\\\n",
       "\t915 & 0 & 0\\\\\n",
       "\\end{tabular}\n"
      ],
      "text/markdown": [
       "\n",
       "| <!--/--> | actual | prediction |\n",
       "|---|---|---|\n",
       "| 900 | 0 | 0 |\n",
       "| 901 | 0 | 0 |\n",
       "| 902 | 0 | 0 |\n",
       "| 903 | 1 | 1 |\n",
       "| 904 | 0 | 0 |\n",
       "| 905 | 0 | 0 |\n",
       "| 906 | 0 | 0 |\n",
       "| 907 | 1 | 1 |\n",
       "| 908 | 0 | 0 |\n",
       "| 909 | 0 | 0 |\n",
       "| 910 | 0 | 0 |\n",
       "| 911 | 1 | 1 |\n",
       "| 912 | 0 | 0 |\n",
       "| 913 | 1 | 1 |\n",
       "| 914 | 0 | 0 |\n",
       "| 915 | 0 | 0 |\n",
       "\n"
      ],
      "text/plain": [
       "    actual prediction\n",
       "900 0      0         \n",
       "901 0      0         \n",
       "902 0      0         \n",
       "903 1      1         \n",
       "904 0      0         \n",
       "905 0      0         \n",
       "906 0      0         \n",
       "907 1      1         \n",
       "908 0      0         \n",
       "909 0      0         \n",
       "910 0      0         \n",
       "911 1      1         \n",
       "912 0      0         \n",
       "913 1      1         \n",
       "914 0      0         \n",
       "915 0      0         "
      ]
     },
     "metadata": {},
     "output_type": "display_data"
    }
   ],
   "source": [
    "results <- data.frame(actual = testset$default10yr, prediction = creditnet.results$net.result)\n",
    "results[100:115, ]\n",
    "results$prediction <-round(results$prediction) # round to improve reading\n",
    "results[100:115, ]\n"
   ]
  },
  {
   "cell_type": "code",
   "execution_count": null,
   "metadata": {},
   "outputs": [],
   "source": []
  }
 ],
 "metadata": {
  "kernelspec": {
   "display_name": "R",
   "language": "R",
   "name": "ir"
  },
  "language_info": {
   "codemirror_mode": "r",
   "file_extension": ".r",
   "mimetype": "text/x-r-source",
   "name": "R",
   "pygments_lexer": "r",
   "version": "3.6.1"
  }
 },
 "nbformat": 4,
 "nbformat_minor": 4
}
