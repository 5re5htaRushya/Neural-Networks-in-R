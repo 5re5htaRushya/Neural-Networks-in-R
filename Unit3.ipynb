{
 "cells": [
  {
   "cell_type": "code",
   "execution_count": 1,
   "metadata": {},
   "outputs": [],
   "source": [
    "set.seed(42) # Set the seed to 42"
   ]
  },
  {
   "cell_type": "code",
   "execution_count": 2,
   "metadata": {},
   "outputs": [],
   "source": [
    "# 200 random points between -10 and 10 - X is a Vector\n",
    "x<- runif (200, -10, 10) \n",
    "y<-sin(x) # vector Y containing the value of sin(x). \n"
   ]
  },
  {
   "cell_type": "code",
   "execution_count": 3,
   "metadata": {},
   "outputs": [],
   "source": [
    "weight<- runif (10, -1, 1) # Randomize 10 initial weights "
   ]
  },
  {
   "cell_type": "code",
   "execution_count": 4,
   "metadata": {},
   "outputs": [],
   "source": [
    "set.seed(42)\n",
    "# Cross-validate model with 75% training\n",
    "index<-sample(1:length(x),round(0.75*length(x)),replace=FALSE) \n",
    "reg.train<-data.frame(X=x[index],Y=y[index])\n",
    "reg.test<-data.frame(X=x[-index],Y=y[-index])\n"
   ]
  },
  {
   "cell_type": "code",
   "execution_count": 5,
   "metadata": {},
   "outputs": [
    {
     "name": "stderr",
     "output_type": "stream",
     "text": [
      "Warning message:\n",
      "\"package 'nnet' was built under R version 3.6.3\""
     ]
    },
    {
     "name": "stdout",
     "output_type": "stream",
     "text": [
      "# weights:  10\n",
      "initial  value 110.954499 \n",
      "iter  10 value 70.129237\n",
      "iter  20 value 49.540887\n",
      "iter  30 value 37.185115\n",
      "iter  40 value 30.634670\n",
      "iter  50 value 29.927629\n",
      "final  value 29.927629 \n",
      "stopped after 50 iterations\n",
      "List of 15\n",
      " $ n            : num [1:3] 1 3 1\n",
      " $ nunits       : int 6\n",
      " $ nconn        : num [1:7] 0 0 0 2 4 6 10\n",
      " $ conn         : num [1:10] 0 1 0 1 0 1 0 2 3 4\n",
      " $ nsunits      : num 5\n",
      " $ decay        : num 0\n",
      " $ entropy      : logi FALSE\n",
      " $ softmax      : logi FALSE\n",
      " $ censored     : logi FALSE\n",
      " $ value        : num 29.9\n",
      " $ wts          : num [1:10] -5.43 1.36 6.59 -1.32 1.64 ...\n",
      " $ convergence  : int 1\n",
      " $ fitted.values: num [1:150, 1] 0.6488 0.3885 -0.4967 -0.2392 0.0895 ...\n",
      "  ..- attr(*, \"dimnames\")=List of 2\n",
      "  .. ..$ : NULL\n",
      "  .. ..$ : NULL\n",
      " $ residuals    : num [1:150, 1] -0.6434 0.2638 -0.1529 -0.1613 -0.0281 ...\n",
      "  ..- attr(*, \"dimnames\")=List of 2\n",
      "  .. ..$ : NULL\n",
      "  .. ..$ : NULL\n",
      " $ call         : language nnet.default(x = reg.train$X, y = reg.train$Y, size = 3, Wts = weight,      linout = TRUE, maxit = 50)\n",
      " - attr(*, \"class\")= chr \"nnet\"\n"
     ]
    }
   ],
   "source": [
    "library(nnet) # Load the nnet to create your model\n",
    "set.seed(42)\n",
    "#3 neuron 1 hidden layer\n",
    "reg.model.1 <- nnet(reg.train$X,reg.train$Y,size=3,maxit=50,Wts=weight,linout=TRUE) \n",
    "str(reg.model.1) # Look at the structure of your model.\n"
   ]
  },
  {
   "cell_type": "code",
   "execution_count": 6,
   "metadata": {},
   "outputs": [
    {
     "name": "stdout",
     "output_type": "stream",
     "text": [
      " num [1:50, 1] -1.022 -0.287 -0.833 -0.281 0.651 ...\n",
      " - attr(*, \"dimnames\")=List of 2\n",
      "  ..$ : NULL\n",
      "  ..$ : NULL\n"
     ]
    },
    {
     "data": {
      "text/html": [
       "3.89430141181969"
      ],
      "text/latex": [
       "3.89430141181969"
      ],
      "text/markdown": [
       "3.89430141181969"
      ],
      "text/plain": [
       "[1] 3.894301"
      ]
     },
     "metadata": {},
     "output_type": "display_data"
    },
    {
     "data": {
      "image/png": "[encoded data removed]",
      "text/plain": [
       "plot without title"
      ]
     },
     "metadata": {},
     "output_type": "display_data"
    }
   ],
   "source": [
    "predict.model.1<-predict(reg.model.1,data.frame(X=reg.test$X))\n",
    "str(predict.model.1)\n",
    "rmse.reg<-sqrt(sum((reg.test$Y-predict.model.1)^2))\n",
    "rmse.reg\n",
    "plot(sin, -10, 10)\n",
    "points(reg.test$X,predict.model.1)\n"
   ]
  },
  {
   "cell_type": "code",
   "execution_count": 7,
   "metadata": {},
   "outputs": [
    {
     "name": "stdout",
     "output_type": "stream",
     "text": [
      "# weights:  22\n",
      "initial  value 372.098787 \n",
      "iter  10 value 58.093395\n",
      "iter  20 value 38.898448\n",
      "iter  30 value 22.575492\n",
      "iter  40 value 20.900687\n",
      "iter  50 value 18.497097\n",
      "final  value 18.497097 \n",
      "stopped after 50 iterations\n",
      "List of 15\n",
      " $ n            : num [1:3] 1 7 1\n",
      " $ nunits       : int 10\n",
      " $ nconn        : num [1:11] 0 0 0 2 4 6 8 10 12 14 ...\n",
      " $ conn         : num [1:22] 0 1 0 1 0 1 0 1 0 1 ...\n",
      " $ nsunits      : num 9\n",
      " $ decay        : num 0\n",
      " $ entropy      : logi FALSE\n",
      " $ softmax      : logi FALSE\n",
      " $ censored     : logi FALSE\n",
      " $ value        : num 18.5\n",
      " $ wts          : num [1:22] 1.266 0.853 10.438 3.841 -0.382 ...\n",
      " $ convergence  : int 1\n",
      " $ fitted.values: num [1:150, 1] 0.561 0.548 -0.692 -0.518 0.157 ...\n",
      "  ..- attr(*, \"dimnames\")=List of 2\n",
      "  .. ..$ : NULL\n",
      "  .. ..$ : NULL\n",
      " $ residuals    : num [1:150, 1] -0.5559 0.1043 0.0428 0.1173 -0.0955 ...\n",
      "  ..- attr(*, \"dimnames\")=List of 2\n",
      "  .. ..$ : NULL\n",
      "  .. ..$ : NULL\n",
      " $ call         : language nnet.default(x = reg.train$X, y = reg.train$Y, size = 7, Wts = runif(22,      -1, 1), linout = TRUE, maxit = 50)\n",
      " - attr(*, \"class\")= chr \"nnet\"\n",
      " num [1:50, 1] -1.008 -0.196 -0.698 -0.751 0.556 ...\n",
      " - attr(*, \"dimnames\")=List of 2\n",
      "  ..$ : NULL\n",
      "  ..$ : NULL\n"
     ]
    },
    {
     "data": {
      "text/html": [
       "3.06414432281054"
      ],
      "text/latex": [
       "3.06414432281054"
      ],
      "text/markdown": [
       "3.06414432281054"
      ],
      "text/plain": [
       "[1] 3.064144"
      ]
     },
     "metadata": {},
     "output_type": "display_data"
    },
    {
     "data": {
      "image/png": "[encoded data removed]",
      "text/plain": [
       "plot without title"
      ]
     },
     "metadata": {},
     "output_type": "display_data"
    }
   ],
   "source": [
    "set.seed(42)\n",
    "reg.model.2<-nnet(reg.train$X,reg.train$Y,size=7,maxit=50,Wts=runif(22, -1, 1),linout=TRUE)\n",
    "str(reg.model.2)\n",
    "predict.model.2<-predict(reg.model.2,data.frame(X=reg.test$X))\n",
    "str(predict.model.2)\n",
    "rmse.reg<-sqrt(sum((reg.test$Y-predict.model.2)^2))\n",
    "rmse.reg\n",
    "plot(sin, -10, 10)\n",
    "points(reg.test$X, predict.model.2)\n"
   ]
  },
  {
   "cell_type": "code",
   "execution_count": null,
   "metadata": {},
   "outputs": [],
   "source": []
  }
 ],
 "metadata": {
  "kernelspec": {
   "display_name": "R",
   "language": "R",
   "name": "ir"
  },
  "language_info": {
   "codemirror_mode": "r",
   "file_extension": ".r",
   "mimetype": "text/x-r-source",
   "name": "R",
   "pygments_lexer": "r",
   "version": "3.6.1"
  }
 },
 "nbformat": 4,
 "nbformat_minor": 4
}
