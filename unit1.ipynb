{
 "cells": [
  {
   "cell_type": "code",
   "execution_count": 1,
   "metadata": {},
   "outputs": [],
   "source": [
    "data <-iris"
   ]
  },
  {
   "cell_type": "code",
   "execution_count": 2,
   "metadata": {},
   "outputs": [],
   "source": [
    "scale.data<-data.frame(lapply(data[,1:4], function(x) scale(x))) ##*\n",
    "scale.data$Species <- data$Species\n"
   ]
  },
  {
   "cell_type": "code",
   "execution_count": 4,
   "metadata": {},
   "outputs": [],
   "source": [
    "index<-sample(1:nrow(scale.data),round(0.75*nrow(scale.data)),replace=FALSE)"
   ]
  },
  {
   "cell_type": "code",
   "execution_count": 5,
   "metadata": {},
   "outputs": [],
   "source": [
    "# Create train and test set.\n",
    "clas.train<-scale.data[index,]\n",
    "clas.test<-scale.data[-index,]\n"
   ]
  },
  {
   "cell_type": "code",
   "execution_count": 6,
   "metadata": {},
   "outputs": [],
   "source": [
    "set.seed(42)"
   ]
  },
  {
   "cell_type": "code",
   "execution_count": 8,
   "metadata": {},
   "outputs": [
    {
     "name": "stdout",
     "output_type": "stream",
     "text": [
      "package 'nnet' successfully unpacked and MD5 sums checked\n",
      "\n",
      "The downloaded binary packages are in\n",
      "\tC:\\Users\\Shrestha\\AppData\\Local\\Temp\\Rtmp8sMTKP\\downloaded_packages\n"
     ]
    }
   ],
   "source": [
    "install.packages('nnet')"
   ]
  },
  {
   "cell_type": "code",
   "execution_count": 9,
   "metadata": {},
   "outputs": [
    {
     "name": "stderr",
     "output_type": "stream",
     "text": [
      "Warning message:\n",
      "\"package 'nnet' was built under R version 3.6.3\""
     ]
    },
    {
     "name": "stdout",
     "output_type": "stream",
     "text": [
      "# weights:  83\n",
      "initial  value 186.619681 \n",
      "iter  10 value 5.958858\n",
      "iter  20 value 3.132310\n",
      "iter  30 value 0.182290\n",
      "iter  40 value 0.005548\n",
      "final  value 0.000071 \n",
      "converged\n",
      "List of 19\n",
      " $ n            : num [1:3] 4 10 3\n",
      " $ nunits       : int 18\n",
      " $ nconn        : num [1:19] 0 0 0 0 0 0 5 10 15 20 ...\n",
      " $ conn         : num [1:83] 0 1 2 3 4 0 1 2 3 4 ...\n",
      " $ nsunits      : num 15\n",
      " $ decay        : num 0\n",
      " $ entropy      : logi FALSE\n",
      " $ softmax      : logi TRUE\n",
      " $ censored     : logi FALSE\n",
      " $ value        : num 7.1e-05\n",
      " $ wts          : num [1:83] 5.217 0.211 -3.949 3.778 6.62 ...\n",
      " $ convergence  : int 0\n",
      " $ fitted.values: num [1:112, 1:3] 8.62e-23 6.13e-15 1.05e-22 1.00 7.88e-21 ...\n",
      "  ..- attr(*, \"dimnames\")=List of 2\n",
      "  .. ..$ : chr [1:112] \"80\" \"149\" \"94\" \"39\" ...\n",
      "  .. ..$ : chr [1:3] \"setosa\" \"versicolor\" \"virginica\"\n",
      " $ residuals    : num [1:112, 1:3] -8.62e-23 -6.13e-15 -1.05e-22 2.85e-08 -7.88e-21 ...\n",
      "  ..- attr(*, \"dimnames\")=List of 2\n",
      "  .. ..$ : chr [1:112] \"80\" \"149\" \"94\" \"39\" ...\n",
      "  .. ..$ : chr [1:3] \"setosa\" \"versicolor\" \"virginica\"\n",
      " $ lev          : chr [1:3] \"setosa\" \"versicolor\" \"virginica\"\n",
      " $ call         : language nnet.formula(formula = Species ~ ., data = clas.train, size = 10, Wts = runif(83,      -1, 1))\n",
      " $ terms        :Classes 'terms', 'formula'  language Species ~ Sepal.Length + Sepal.Width + Petal.Length + Petal.Width\n",
      "  .. ..- attr(*, \"variables\")= language list(Species, Sepal.Length, Sepal.Width, Petal.Length, Petal.Width)\n",
      "  .. ..- attr(*, \"factors\")= int [1:5, 1:4] 0 1 0 0 0 0 0 1 0 0 ...\n",
      "  .. .. ..- attr(*, \"dimnames\")=List of 2\n",
      "  .. .. .. ..$ : chr [1:5] \"Species\" \"Sepal.Length\" \"Sepal.Width\" \"Petal.Length\" ...\n",
      "  .. .. .. ..$ : chr [1:4] \"Sepal.Length\" \"Sepal.Width\" \"Petal.Length\" \"Petal.Width\"\n",
      "  .. ..- attr(*, \"term.labels\")= chr [1:4] \"Sepal.Length\" \"Sepal.Width\" \"Petal.Length\" \"Petal.Width\"\n",
      "  .. ..- attr(*, \"order\")= int [1:4] 1 1 1 1\n",
      "  .. ..- attr(*, \"intercept\")= int 1\n",
      "  .. ..- attr(*, \"response\")= int 1\n",
      "  .. ..- attr(*, \".Environment\")=<environment: R_GlobalEnv> \n",
      "  .. ..- attr(*, \"predvars\")= language list(Species, Sepal.Length, Sepal.Width, Petal.Length, Petal.Width)\n",
      "  .. ..- attr(*, \"dataClasses\")= Named chr [1:5] \"factor\" \"numeric\" \"numeric\" \"numeric\" ...\n",
      "  .. .. ..- attr(*, \"names\")= chr [1:5] \"Species\" \"Sepal.Length\" \"Sepal.Width\" \"Petal.Length\" ...\n",
      " $ coefnames    : chr [1:4] \"Sepal.Length\" \"Sepal.Width\" \"Petal.Length\" \"Petal.Width\"\n",
      " $ xlevels      : Named list()\n",
      " - attr(*, \"class\")= chr [1:2] \"nnet.formula\" \"nnet\"\n"
     ]
    }
   ],
   "source": [
    "library(nnet)\n",
    "clust.model<-nnet(Species~.,size=10,Wts=runif(83, -1, 1),data=clas.train)\n",
    "str(clust.model) # Look at the structure of your model.\n"
   ]
  },
  {
   "cell_type": "code",
   "execution_count": 10,
   "metadata": {},
   "outputs": [],
   "source": [
    "predict.model.clas<-predict(clust.model,clas.test[,1:4],type=\"class\")"
   ]
  },
  {
   "cell_type": "code",
   "execution_count": 11,
   "metadata": {},
   "outputs": [
    {
     "data": {
      "text/plain": [
       "            predict.model.clas\n",
       "             setosa versicolor virginica\n",
       "  setosa         14          0         0\n",
       "  versicolor      0          9         1\n",
       "  virginica       0          1        13"
      ]
     },
     "metadata": {},
     "output_type": "display_data"
    }
   ],
   "source": [
    "confmatrix <- table(clas.test$Species ,predict.model.clas)\n",
    "confmatrix\n"
   ]
  },
  {
   "cell_type": "code",
   "execution_count": 12,
   "metadata": {},
   "outputs": [
    {
     "data": {
      "text/html": [
       "0.947368421052632"
      ],
      "text/latex": [
       "0.947368421052632"
      ],
      "text/markdown": [
       "0.947368421052632"
      ],
      "text/plain": [
       "[1] 0.9473684"
      ]
     },
     "metadata": {},
     "output_type": "display_data"
    }
   ],
   "source": [
    "accuracy <- sum(diag(confmatrix))/sum(confmatrix)\n",
    "accuracy\n"
   ]
  },
  {
   "cell_type": "code",
   "execution_count": null,
   "metadata": {},
   "outputs": [],
   "source": []
  }
 ],
 "metadata": {
  "kernelspec": {
   "display_name": "R",
   "language": "R",
   "name": "ir"
  },
  "language_info": {
   "codemirror_mode": "r",
   "file_extension": ".r",
   "mimetype": "text/x-r-source",
   "name": "R",
   "pygments_lexer": "r",
   "version": "3.6.1"
  }
 },
 "nbformat": 4,
 "nbformat_minor": 4
}
