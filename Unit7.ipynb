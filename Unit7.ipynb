{
 "cells": [
  {
   "cell_type": "code",
   "execution_count": 2,
   "metadata": {
    "scrolled": true
   },
   "outputs": [
    {
     "name": "stderr",
     "output_type": "stream",
     "text": [
      "also installing the dependencies 'lattice', 'colorspace', 'nlme', 'Matrix', 'farver', 'labeling', 'munsell', 'RColorBrewer', 'viridisLite', 'gtable', 'isoband', 'mgcv', 'scales', 'withr'\n",
      "\n"
     ]
    },
    {
     "name": "stdout",
     "output_type": "stream",
     "text": [
      "\n",
      "  There are binary versions available but the source versions are later:\n",
      "        binary source needs_compilation\n",
      "Matrix   1.3-3  1.3-4              TRUE\n",
      "mgcv    1.8-35 1.8-36              TRUE\n",
      "ggplot2  3.3.3  3.3.4             FALSE\n",
      "\n",
      "  Binaries will be installed\n",
      "package 'lattice' successfully unpacked and MD5 sums checked\n",
      "package 'colorspace' successfully unpacked and MD5 sums checked\n",
      "package 'nlme' successfully unpacked and MD5 sums checked\n",
      "package 'Matrix' successfully unpacked and MD5 sums checked\n",
      "package 'farver' successfully unpacked and MD5 sums checked\n",
      "package 'labeling' successfully unpacked and MD5 sums checked\n",
      "package 'munsell' successfully unpacked and MD5 sums checked\n",
      "package 'RColorBrewer' successfully unpacked and MD5 sums checked\n",
      "package 'viridisLite' successfully unpacked and MD5 sums checked\n",
      "package 'gtable' successfully unpacked and MD5 sums checked\n",
      "package 'isoband' successfully unpacked and MD5 sums checked\n",
      "package 'mgcv' successfully unpacked and MD5 sums checked\n",
      "package 'scales' successfully unpacked and MD5 sums checked\n",
      "package 'withr' successfully unpacked and MD5 sums checked\n",
      "\n",
      "The downloaded binary packages are in\n",
      "\tC:\\Users\\Shrestha\\AppData\\Local\\Temp\\RtmpC0WWqR\\downloaded_packages\n"
     ]
    },
    {
     "name": "stderr",
     "output_type": "stream",
     "text": [
      "installing the source package 'ggplot2'\n",
      "\n"
     ]
    }
   ],
   "source": [
    "install.packages('ggplot2')"
   ]
  },
  {
   "cell_type": "code",
   "execution_count": 3,
   "metadata": {},
   "outputs": [
    {
     "name": "stderr",
     "output_type": "stream",
     "text": [
      "Loading required package: ggplot2\n"
     ]
    }
   ],
   "source": [
    "require(neuralnet)\n",
    "require(nnet)\n",
    "require(ggplot2)\n",
    "set.seed(10)\n"
   ]
  },
  {
   "cell_type": "code",
   "execution_count": 4,
   "metadata": {},
   "outputs": [
    {
     "data": {
      "text/html": [
       "<table>\n",
       "<thead><tr><th scope=col>label</th><th scope=col>Alcohol</th><th scope=col>Malic_acid</th><th scope=col>Ash</th><th scope=col>Alcalinity_of_ash</th><th scope=col>Magnesium</th><th scope=col>Total_phenols</th><th scope=col>Flavanoids</th><th scope=col>Nonflavanoid_phenols</th><th scope=col>Proanthocyanins</th><th scope=col>Color_intensity</th><th scope=col>Hue</th><th scope=col>OD280_OD315_of_diluted_wines</th><th scope=col>Proline</th></tr></thead>\n",
       "<tbody>\n",
       "\t<tr><td>1    </td><td>14.23</td><td>1.71 </td><td>2.43 </td><td>15.6 </td><td>127  </td><td>2.80 </td><td>3.06 </td><td>0.28 </td><td>2.29 </td><td>5.64 </td><td>1.04 </td><td>3.92 </td><td>1065 </td></tr>\n",
       "\t<tr><td>1    </td><td>13.20</td><td>1.78 </td><td>2.14 </td><td>11.2 </td><td>100  </td><td>2.65 </td><td>2.76 </td><td>0.26 </td><td>1.28 </td><td>4.38 </td><td>1.05 </td><td>3.40 </td><td>1050 </td></tr>\n",
       "\t<tr><td>1    </td><td>13.16</td><td>2.36 </td><td>2.67 </td><td>18.6 </td><td>101  </td><td>2.80 </td><td>3.24 </td><td>0.30 </td><td>2.81 </td><td>5.68 </td><td>1.03 </td><td>3.17 </td><td>1185 </td></tr>\n",
       "\t<tr><td>1    </td><td>14.37</td><td>1.95 </td><td>2.50 </td><td>16.8 </td><td>113  </td><td>3.85 </td><td>3.49 </td><td>0.24 </td><td>2.18 </td><td>7.80 </td><td>0.86 </td><td>3.45 </td><td>1480 </td></tr>\n",
       "\t<tr><td>1    </td><td>13.24</td><td>2.59 </td><td>2.87 </td><td>21.0 </td><td>118  </td><td>2.80 </td><td>2.69 </td><td>0.39 </td><td>1.82 </td><td>4.32 </td><td>1.04 </td><td>2.93 </td><td> 735 </td></tr>\n",
       "\t<tr><td>1    </td><td>14.20</td><td>1.76 </td><td>2.45 </td><td>15.2 </td><td>112  </td><td>3.27 </td><td>3.39 </td><td>0.34 </td><td>1.97 </td><td>6.75 </td><td>1.05 </td><td>2.85 </td><td>1450 </td></tr>\n",
       "</tbody>\n",
       "</table>\n"
      ],
      "text/latex": [
       "\\begin{tabular}{r|llllllllllllll}\n",
       " label & Alcohol & Malic\\_acid & Ash & Alcalinity\\_of\\_ash & Magnesium & Total\\_phenols & Flavanoids & Nonflavanoid\\_phenols & Proanthocyanins & Color\\_intensity & Hue & OD280\\_OD315\\_of\\_diluted\\_wines & Proline\\\\\n",
       "\\hline\n",
       "\t 1     & 14.23 & 1.71  & 2.43  & 15.6  & 127   & 2.80  & 3.06  & 0.28  & 2.29  & 5.64  & 1.04  & 3.92  & 1065 \\\\\n",
       "\t 1     & 13.20 & 1.78  & 2.14  & 11.2  & 100   & 2.65  & 2.76  & 0.26  & 1.28  & 4.38  & 1.05  & 3.40  & 1050 \\\\\n",
       "\t 1     & 13.16 & 2.36  & 2.67  & 18.6  & 101   & 2.80  & 3.24  & 0.30  & 2.81  & 5.68  & 1.03  & 3.17  & 1185 \\\\\n",
       "\t 1     & 14.37 & 1.95  & 2.50  & 16.8  & 113   & 3.85  & 3.49  & 0.24  & 2.18  & 7.80  & 0.86  & 3.45  & 1480 \\\\\n",
       "\t 1     & 13.24 & 2.59  & 2.87  & 21.0  & 118   & 2.80  & 2.69  & 0.39  & 1.82  & 4.32  & 1.04  & 2.93  &  735 \\\\\n",
       "\t 1     & 14.20 & 1.76  & 2.45  & 15.2  & 112   & 3.27  & 3.39  & 0.34  & 1.97  & 6.75  & 1.05  & 2.85  & 1450 \\\\\n",
       "\\end{tabular}\n"
      ],
      "text/markdown": [
       "\n",
       "| label | Alcohol | Malic_acid | Ash | Alcalinity_of_ash | Magnesium | Total_phenols | Flavanoids | Nonflavanoid_phenols | Proanthocyanins | Color_intensity | Hue | OD280_OD315_of_diluted_wines | Proline |\n",
       "|---|---|---|---|---|---|---|---|---|---|---|---|---|---|\n",
       "| 1     | 14.23 | 1.71  | 2.43  | 15.6  | 127   | 2.80  | 3.06  | 0.28  | 2.29  | 5.64  | 1.04  | 3.92  | 1065  |\n",
       "| 1     | 13.20 | 1.78  | 2.14  | 11.2  | 100   | 2.65  | 2.76  | 0.26  | 1.28  | 4.38  | 1.05  | 3.40  | 1050  |\n",
       "| 1     | 13.16 | 2.36  | 2.67  | 18.6  | 101   | 2.80  | 3.24  | 0.30  | 2.81  | 5.68  | 1.03  | 3.17  | 1185  |\n",
       "| 1     | 14.37 | 1.95  | 2.50  | 16.8  | 113   | 3.85  | 3.49  | 0.24  | 2.18  | 7.80  | 0.86  | 3.45  | 1480  |\n",
       "| 1     | 13.24 | 2.59  | 2.87  | 21.0  | 118   | 2.80  | 2.69  | 0.39  | 1.82  | 4.32  | 1.04  | 2.93  |  735  |\n",
       "| 1     | 14.20 | 1.76  | 2.45  | 15.2  | 112   | 3.27  | 3.39  | 0.34  | 1.97  | 6.75  | 1.05  | 2.85  | 1450  |\n",
       "\n"
      ],
      "text/plain": [
       "  label Alcohol Malic_acid Ash  Alcalinity_of_ash Magnesium Total_phenols\n",
       "1 1     14.23   1.71       2.43 15.6              127       2.80         \n",
       "2 1     13.20   1.78       2.14 11.2              100       2.65         \n",
       "3 1     13.16   2.36       2.67 18.6              101       2.80         \n",
       "4 1     14.37   1.95       2.50 16.8              113       3.85         \n",
       "5 1     13.24   2.59       2.87 21.0              118       2.80         \n",
       "6 1     14.20   1.76       2.45 15.2              112       3.27         \n",
       "  Flavanoids Nonflavanoid_phenols Proanthocyanins Color_intensity Hue \n",
       "1 3.06       0.28                 2.29            5.64            1.04\n",
       "2 2.76       0.26                 1.28            4.38            1.05\n",
       "3 3.24       0.30                 2.81            5.68            1.03\n",
       "4 3.49       0.24                 2.18            7.80            0.86\n",
       "5 2.69       0.39                 1.82            4.32            1.04\n",
       "6 3.39       0.34                 1.97            6.75            1.05\n",
       "  OD280_OD315_of_diluted_wines Proline\n",
       "1 3.92                         1065   \n",
       "2 3.40                         1050   \n",
       "3 3.17                         1185   \n",
       "4 3.45                         1480   \n",
       "5 2.93                          735   \n",
       "6 2.85                         1450   "
      ]
     },
     "metadata": {},
     "output_type": "display_data"
    }
   ],
   "source": [
    "wines <- read.csv(\"wines.csv\")\n",
    "names(wines) <- c(\"label\", \"Alcohol\",\"Malic_acid\", \"Ash\",\n",
    "                  \"Alcalinity_of_ash\", \"Magnesium\", \"Total_phenols\",\n",
    "                  \"Flavanoids\", \"Nonflavanoid_phenols\",\n",
    "                  \"Proanthocyanins\", \"Color_intensity\",\n",
    "                  \"Hue\", \"OD280_OD315_of_diluted_wines\",\"Proline\")\n",
    "head(wines)\n"
   ]
  },
  {
   "cell_type": "code",
   "execution_count": 5,
   "metadata": {},
   "outputs": [
    {
     "data": {
      "image/png": "[encoded data removed]",
      "text/plain": [
       "plot without title"
      ]
     },
     "metadata": {},
     "output_type": "display_data"
    },
    {
     "data": {
      "image/png": "[encoded data removed]",
      "text/plain": [
       "plot without title"
      ]
     },
     "metadata": {},
     "output_type": "display_data"
    }
   ],
   "source": [
    "# Let’s have a look at a plot of some of the variables\n",
    "plt1 <- ggplot(wines, aes(x = Alcohol, y = Magnesium, colour = as.factor(label))) + geom_point(size=3) + ggtitle(\"Wines\")\n",
    "plt2 <- ggplot(wines, aes(x = Alcohol, y = Proline, colour = as.factor(label))) +\n",
    "    geom_point(size=3) + ggtitle(\"Wines\")\n",
    "plt1\n",
    "plt2\n"
   ]
  },
  {
   "cell_type": "code",
   "execution_count": 6,
   "metadata": {},
   "outputs": [],
   "source": [
    "# Encode as a one hot vector multilabel data\n",
    "train <- cbind(wines[, 2:14], class.ind(as.factor(wines$label)))\n"
   ]
  },
  {
   "cell_type": "code",
   "execution_count": 7,
   "metadata": {},
   "outputs": [],
   "source": [
    "# Set labels name\n",
    "names(train) <- c(names(wines)[2:14],\"l1\",\"l2\",\"l3\")\n"
   ]
  },
  {
   "cell_type": "code",
   "execution_count": 8,
   "metadata": {},
   "outputs": [
    {
     "data": {
      "text/html": [
       "<table>\n",
       "<thead><tr><th scope=col>Alcohol</th><th scope=col>Malic_acid</th><th scope=col>Ash</th><th scope=col>Alcalinity_of_ash</th><th scope=col>Magnesium</th><th scope=col>Total_phenols</th><th scope=col>Flavanoids</th><th scope=col>Nonflavanoid_phenols</th><th scope=col>Proanthocyanins</th><th scope=col>Color_intensity</th><th scope=col>Hue</th><th scope=col>OD280_OD315_of_diluted_wines</th><th scope=col>Proline</th><th scope=col>l1</th><th scope=col>l2</th><th scope=col>l3</th></tr></thead>\n",
       "<tbody>\n",
       "\t<tr><td>0.8421053 </td><td>0.1916996 </td><td>0.5721925 </td><td>0.25773196</td><td>0.6195652 </td><td>0.6275862 </td><td>0.5738397 </td><td>0.2830189 </td><td>0.5930599 </td><td>0.3720137 </td><td>0.4552846 </td><td>0.9706960 </td><td>0.5613409 </td><td>1         </td><td>0         </td><td>0         </td></tr>\n",
       "\t<tr><td>0.5710526 </td><td>0.2055336 </td><td>0.4171123 </td><td>0.03092784</td><td>0.3260870 </td><td>0.5758621 </td><td>0.5105485 </td><td>0.2452830 </td><td>0.2744479 </td><td>0.2645051 </td><td>0.4634146 </td><td>0.7802198 </td><td>0.5506419 </td><td>1         </td><td>0         </td><td>0         </td></tr>\n",
       "\t<tr><td>0.5605263 </td><td>0.3201581 </td><td>0.7005348 </td><td>0.41237113</td><td>0.3369565 </td><td>0.6275862 </td><td>0.6118143 </td><td>0.3207547 </td><td>0.7570978 </td><td>0.3754266 </td><td>0.4471545 </td><td>0.6959707 </td><td>0.6469330 </td><td>1         </td><td>0         </td><td>0         </td></tr>\n",
       "\t<tr><td>0.8789474 </td><td>0.2391304 </td><td>0.6096257 </td><td>0.31958763</td><td>0.4673913 </td><td>0.9896552 </td><td>0.6645570 </td><td>0.2075472 </td><td>0.5583596 </td><td>0.5563140 </td><td>0.3089431 </td><td>0.7985348 </td><td>0.8573466 </td><td>1         </td><td>0         </td><td>0         </td></tr>\n",
       "\t<tr><td>0.5815789 </td><td>0.3656126 </td><td>0.8074866 </td><td>0.53608247</td><td>0.5217391 </td><td>0.6275862 </td><td>0.4957806 </td><td>0.4905660 </td><td>0.4447950 </td><td>0.2593857 </td><td>0.4552846 </td><td>0.6080586 </td><td>0.3259629 </td><td>1         </td><td>0         </td><td>0         </td></tr>\n",
       "\t<tr><td>0.8342105 </td><td>0.2015810 </td><td>0.5828877 </td><td>0.23711340</td><td>0.4565217 </td><td>0.7896552 </td><td>0.6434599 </td><td>0.3962264 </td><td>0.4921136 </td><td>0.4667235 </td><td>0.4634146 </td><td>0.5787546 </td><td>0.8359486 </td><td>1         </td><td>0         </td><td>0         </td></tr>\n",
       "</tbody>\n",
       "</table>\n"
      ],
      "text/latex": [
       "\\begin{tabular}{r|llllllllllllllll}\n",
       " Alcohol & Malic\\_acid & Ash & Alcalinity\\_of\\_ash & Magnesium & Total\\_phenols & Flavanoids & Nonflavanoid\\_phenols & Proanthocyanins & Color\\_intensity & Hue & OD280\\_OD315\\_of\\_diluted\\_wines & Proline & l1 & l2 & l3\\\\\n",
       "\\hline\n",
       "\t 0.8421053  & 0.1916996  & 0.5721925  & 0.25773196 & 0.6195652  & 0.6275862  & 0.5738397  & 0.2830189  & 0.5930599  & 0.3720137  & 0.4552846  & 0.9706960  & 0.5613409  & 1          & 0          & 0         \\\\\n",
       "\t 0.5710526  & 0.2055336  & 0.4171123  & 0.03092784 & 0.3260870  & 0.5758621  & 0.5105485  & 0.2452830  & 0.2744479  & 0.2645051  & 0.4634146  & 0.7802198  & 0.5506419  & 1          & 0          & 0         \\\\\n",
       "\t 0.5605263  & 0.3201581  & 0.7005348  & 0.41237113 & 0.3369565  & 0.6275862  & 0.6118143  & 0.3207547  & 0.7570978  & 0.3754266  & 0.4471545  & 0.6959707  & 0.6469330  & 1          & 0          & 0         \\\\\n",
       "\t 0.8789474  & 0.2391304  & 0.6096257  & 0.31958763 & 0.4673913  & 0.9896552  & 0.6645570  & 0.2075472  & 0.5583596  & 0.5563140  & 0.3089431  & 0.7985348  & 0.8573466  & 1          & 0          & 0         \\\\\n",
       "\t 0.5815789  & 0.3656126  & 0.8074866  & 0.53608247 & 0.5217391  & 0.6275862  & 0.4957806  & 0.4905660  & 0.4447950  & 0.2593857  & 0.4552846  & 0.6080586  & 0.3259629  & 1          & 0          & 0         \\\\\n",
       "\t 0.8342105  & 0.2015810  & 0.5828877  & 0.23711340 & 0.4565217  & 0.7896552  & 0.6434599  & 0.3962264  & 0.4921136  & 0.4667235  & 0.4634146  & 0.5787546  & 0.8359486  & 1          & 0          & 0         \\\\\n",
       "\\end{tabular}\n"
      ],
      "text/markdown": [
       "\n",
       "| Alcohol | Malic_acid | Ash | Alcalinity_of_ash | Magnesium | Total_phenols | Flavanoids | Nonflavanoid_phenols | Proanthocyanins | Color_intensity | Hue | OD280_OD315_of_diluted_wines | Proline | l1 | l2 | l3 |\n",
       "|---|---|---|---|---|---|---|---|---|---|---|---|---|---|---|---|\n",
       "| 0.8421053  | 0.1916996  | 0.5721925  | 0.25773196 | 0.6195652  | 0.6275862  | 0.5738397  | 0.2830189  | 0.5930599  | 0.3720137  | 0.4552846  | 0.9706960  | 0.5613409  | 1          | 0          | 0          |\n",
       "| 0.5710526  | 0.2055336  | 0.4171123  | 0.03092784 | 0.3260870  | 0.5758621  | 0.5105485  | 0.2452830  | 0.2744479  | 0.2645051  | 0.4634146  | 0.7802198  | 0.5506419  | 1          | 0          | 0          |\n",
       "| 0.5605263  | 0.3201581  | 0.7005348  | 0.41237113 | 0.3369565  | 0.6275862  | 0.6118143  | 0.3207547  | 0.7570978  | 0.3754266  | 0.4471545  | 0.6959707  | 0.6469330  | 1          | 0          | 0          |\n",
       "| 0.8789474  | 0.2391304  | 0.6096257  | 0.31958763 | 0.4673913  | 0.9896552  | 0.6645570  | 0.2075472  | 0.5583596  | 0.5563140  | 0.3089431  | 0.7985348  | 0.8573466  | 1          | 0          | 0          |\n",
       "| 0.5815789  | 0.3656126  | 0.8074866  | 0.53608247 | 0.5217391  | 0.6275862  | 0.4957806  | 0.4905660  | 0.4447950  | 0.2593857  | 0.4552846  | 0.6080586  | 0.3259629  | 1          | 0          | 0          |\n",
       "| 0.8342105  | 0.2015810  | 0.5828877  | 0.23711340 | 0.4565217  | 0.7896552  | 0.6434599  | 0.3962264  | 0.4921136  | 0.4667235  | 0.4634146  | 0.5787546  | 0.8359486  | 1          | 0          | 0          |\n",
       "\n"
      ],
      "text/plain": [
       "  Alcohol   Malic_acid Ash       Alcalinity_of_ash Magnesium Total_phenols\n",
       "1 0.8421053 0.1916996  0.5721925 0.25773196        0.6195652 0.6275862    \n",
       "2 0.5710526 0.2055336  0.4171123 0.03092784        0.3260870 0.5758621    \n",
       "3 0.5605263 0.3201581  0.7005348 0.41237113        0.3369565 0.6275862    \n",
       "4 0.8789474 0.2391304  0.6096257 0.31958763        0.4673913 0.9896552    \n",
       "5 0.5815789 0.3656126  0.8074866 0.53608247        0.5217391 0.6275862    \n",
       "6 0.8342105 0.2015810  0.5828877 0.23711340        0.4565217 0.7896552    \n",
       "  Flavanoids Nonflavanoid_phenols Proanthocyanins Color_intensity Hue      \n",
       "1 0.5738397  0.2830189            0.5930599       0.3720137       0.4552846\n",
       "2 0.5105485  0.2452830            0.2744479       0.2645051       0.4634146\n",
       "3 0.6118143  0.3207547            0.7570978       0.3754266       0.4471545\n",
       "4 0.6645570  0.2075472            0.5583596       0.5563140       0.3089431\n",
       "5 0.4957806  0.4905660            0.4447950       0.2593857       0.4552846\n",
       "6 0.6434599  0.3962264            0.4921136       0.4667235       0.4634146\n",
       "  OD280_OD315_of_diluted_wines Proline   l1 l2 l3\n",
       "1 0.9706960                    0.5613409 1  0  0 \n",
       "2 0.7802198                    0.5506419 1  0  0 \n",
       "3 0.6959707                    0.6469330 1  0  0 \n",
       "4 0.7985348                    0.8573466 1  0  0 \n",
       "5 0.6080586                    0.3259629 1  0  0 \n",
       "6 0.5787546                    0.8359486 1  0  0 "
      ]
     },
     "metadata": {},
     "output_type": "display_data"
    }
   ],
   "source": [
    "# Standardize the predictors in the [0−1]\">[0−1]  interval with lapply\n",
    "# Scale data\n",
    "scl <- function(x){ (x - min(x))/(max(x) - min(x)) }\n",
    "train[, 1:13] <- data.frame(lapply(train[, 1:13], scl))\n",
    "head(train)\n"
   ]
  },
  {
   "cell_type": "code",
   "execution_count": 10,
   "metadata": {},
   "outputs": [],
   "source": [
    "# Set up formula\n",
    "n <- names(train)\n",
    "f <- as.formula(paste(\"l1 + l2 + l3 ~\", paste(n[!n %in% c(\"l1\",\"l2\",\"l3\")], collapse = \" + \")))\n",
    "\n"
   ]
  },
  {
   "cell_type": "code",
   "execution_count": 11,
   "metadata": {},
   "outputs": [
    {
     "data": {
      "text/plain": [
       "l1 + l2 + l3 ~ Alcohol + Malic_acid + Ash + Alcalinity_of_ash + \n",
       "    Magnesium + Total_phenols + Flavanoids + Nonflavanoid_phenols + \n",
       "    Proanthocyanins + Color_intensity + Hue + OD280_OD315_of_diluted_wines + \n",
       "    Proline"
      ]
     },
     "metadata": {},
     "output_type": "display_data"
    }
   ],
   "source": [
    "f"
   ]
  },
  {
   "cell_type": "code",
   "execution_count": 12,
   "metadata": {},
   "outputs": [
    {
     "name": "stderr",
     "output_type": "stream",
     "text": [
      "hidden: 13, 10, 3    thresh: 0.01    rep: 1/1    steps:      89\terror: 0.02455\ttime: 0.1 secs\n"
     ]
    }
   ],
   "source": [
    "nn <- neuralnet(f, data = train, hidden = c(13, 10, 3), act.fct = \"logistic\",linear.output = FALSE,lifesign = \"minimal\")"
   ]
  },
  {
   "cell_type": "code",
   "execution_count": 13,
   "metadata": {},
   "outputs": [],
   "source": [
    "plot(nn)"
   ]
  },
  {
   "cell_type": "code",
   "execution_count": 14,
   "metadata": {},
   "outputs": [],
   "source": [
    "# Compute predictions\n",
    "pr.nn <- compute(nn, train[, 1:13])\n"
   ]
  },
  {
   "cell_type": "code",
   "execution_count": 15,
   "metadata": {},
   "outputs": [
    {
     "data": {
      "text/html": [
       "<table>\n",
       "<tbody>\n",
       "\t<tr><td>0.9919754   </td><td>0.003020934 </td><td>5.042477e-06</td></tr>\n",
       "\t<tr><td>0.9913000   </td><td>0.003559137 </td><td>4.524784e-06</td></tr>\n",
       "\t<tr><td>0.9920582   </td><td>0.003003758 </td><td>4.938348e-06</td></tr>\n",
       "\t<tr><td>0.9923104   </td><td>0.002871484 </td><td>5.158712e-06</td></tr>\n",
       "\t<tr><td>0.9872282   </td><td>0.005115707 </td><td>5.583214e-06</td></tr>\n",
       "\t<tr><td>0.9923760   </td><td>0.002874163 </td><td>4.903709e-06</td></tr>\n",
       "</tbody>\n",
       "</table>\n"
      ],
      "text/latex": [
       "\\begin{tabular}{lll}\n",
       "\t 0.9919754    & 0.003020934  & 5.042477e-06\\\\\n",
       "\t 0.9913000    & 0.003559137  & 4.524784e-06\\\\\n",
       "\t 0.9920582    & 0.003003758  & 4.938348e-06\\\\\n",
       "\t 0.9923104    & 0.002871484  & 5.158712e-06\\\\\n",
       "\t 0.9872282    & 0.005115707  & 5.583214e-06\\\\\n",
       "\t 0.9923760    & 0.002874163  & 4.903709e-06\\\\\n",
       "\\end{tabular}\n"
      ],
      "text/markdown": [
       "\n",
       "| 0.9919754    | 0.003020934  | 5.042477e-06 |\n",
       "| 0.9913000    | 0.003559137  | 4.524784e-06 |\n",
       "| 0.9920582    | 0.003003758  | 4.938348e-06 |\n",
       "| 0.9923104    | 0.002871484  | 5.158712e-06 |\n",
       "| 0.9872282    | 0.005115707  | 5.583214e-06 |\n",
       "| 0.9923760    | 0.002874163  | 4.903709e-06 |\n",
       "\n"
      ],
      "text/plain": [
       "     [,1]      [,2]        [,3]        \n",
       "[1,] 0.9919754 0.003020934 5.042477e-06\n",
       "[2,] 0.9913000 0.003559137 4.524784e-06\n",
       "[3,] 0.9920582 0.003003758 4.938348e-06\n",
       "[4,] 0.9923104 0.002871484 5.158712e-06\n",
       "[5,] 0.9872282 0.005115707 5.583214e-06\n",
       "[6,] 0.9923760 0.002874163 4.903709e-06"
      ]
     },
     "metadata": {},
     "output_type": "display_data"
    }
   ],
   "source": [
    "# Extract results\n",
    "pr.nn_ <- pr.nn$net.result\n",
    "head(pr.nn_)\n"
   ]
  },
  {
   "cell_type": "code",
   "execution_count": 16,
   "metadata": {},
   "outputs": [
    {
     "data": {
      "text/html": [
       "1"
      ],
      "text/latex": [
       "1"
      ],
      "text/markdown": [
       "1"
      ],
      "text/plain": [
       "[1] 1"
      ]
     },
     "metadata": {},
     "output_type": "display_data"
    }
   ],
   "source": [
    "# Accuracy (training set)\n",
    "original_values <- max.col(train[, 14:16])\n",
    "pr.nn_2 <- max.col(pr.nn_)\n",
    "mean(pr.nn_2 == original_values)\n"
   ]
  },
  {
   "cell_type": "code",
   "execution_count": 17,
   "metadata": {},
   "outputs": [],
   "source": [
    "# Set seed for reproducibility purposes\n",
    "set.seed(500)\n"
   ]
  },
  {
   "cell_type": "code",
   "execution_count": 18,
   "metadata": {},
   "outputs": [],
   "source": [
    "# 10 fold cross validation\n",
    "k <- 10\n",
    "# Results from cv\n",
    "outs <- NULL\n"
   ]
  },
  {
   "cell_type": "code",
   "execution_count": 19,
   "metadata": {},
   "outputs": [],
   "source": [
    "# Train test split proportions\n",
    "proportion <- 0.95 # Set to 0.995 for LOOCV\n"
   ]
  },
  {
   "cell_type": "code",
   "execution_count": 20,
   "metadata": {},
   "outputs": [
    {
     "data": {
      "text/html": [
       "1"
      ],
      "text/latex": [
       "1"
      ],
      "text/markdown": [
       "1"
      ],
      "text/plain": [
       "[1] 1"
      ]
     },
     "metadata": {},
     "output_type": "display_data"
    }
   ],
   "source": [
    "# Crossvalidate, go!\n",
    "for(i in 1:k)\n",
    "{\n",
    "    index <- sample(1:nrow(train), round(proportion*nrow(train)))\n",
    "    train_cv <- train[index, ]\n",
    "    test_cv <- train[-index, ]\n",
    "    nn_cv <- neuralnet(f,\n",
    "                        data = train_cv,\n",
    "                        hidden = c(13, 10, 3),\n",
    "                        act.fct = \"logistic\",\n",
    "                        linear.output = FALSE)\n",
    "    \n",
    "        pr.nn <- compute(nn_cv, test_cv[, 1:13]) # Compute predictions\n",
    "    \n",
    "    pr.nn_ <- pr.nn$net.result # Extract results\n",
    "    # Accuracy (test set)\n",
    "    original_values <- max.col(test_cv[, 14:16])\n",
    "    pr.nn_2 <- max.col(pr.nn_)\n",
    "    outs[i] <- mean(pr.nn_2 == original_values)\n",
    "}\n",
    "mean(outs) # 98.8% - Great!!\n"
   ]
  },
  {
   "cell_type": "code",
   "execution_count": null,
   "metadata": {},
   "outputs": [],
   "source": []
  }
 ],
 "metadata": {
  "kernelspec": {
   "display_name": "R",
   "language": "R",
   "name": "ir"
  },
  "language_info": {
   "codemirror_mode": "r",
   "file_extension": ".r",
   "mimetype": "text/x-r-source",
   "name": "R",
   "pygments_lexer": "r",
   "version": "3.6.1"
  }
 },
 "nbformat": 4,
 "nbformat_minor": 4
}
