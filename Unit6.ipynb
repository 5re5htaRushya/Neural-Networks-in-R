{
 "cells": [
  {
   "cell_type": "code",
   "execution_count": 2,
   "metadata": {},
   "outputs": [
    {
     "name": "stderr",
     "output_type": "stream",
     "text": [
      "also installing the dependencies 'bitops', 'RCurl'\n",
      "\n"
     ]
    },
    {
     "name": "stdout",
     "output_type": "stream",
     "text": [
      "\n",
      "  There is a binary version available but the source version is later:\n",
      "      binary   source needs_compilation\n",
      "h2o 3.32.1.2 3.32.1.3             FALSE\n",
      "\n",
      "package 'bitops' successfully unpacked and MD5 sums checked\n",
      "package 'RCurl' successfully unpacked and MD5 sums checked\n",
      "\n",
      "The downloaded binary packages are in\n",
      "\tC:\\Users\\Shrestha\\AppData\\Local\\Temp\\RtmpYFFady\\downloaded_packages\n"
     ]
    },
    {
     "name": "stderr",
     "output_type": "stream",
     "text": [
      "installing the source package 'h2o'\n",
      "\n"
     ]
    }
   ],
   "source": [
    "install.packages('h2o')"
   ]
  },
  {
   "cell_type": "code",
   "execution_count": 7,
   "metadata": {},
   "outputs": [
    {
     "name": "stdout",
     "output_type": "stream",
     "text": [
      " Connection successful!\n",
      "\n",
      "R is connected to the H2O cluster: \n",
      "    H2O cluster uptime:         15 minutes 42 seconds \n",
      "    H2O cluster timezone:       Asia/Kolkata \n",
      "    H2O data parsing timezone:  UTC \n",
      "    H2O cluster version:        3.32.1.3 \n",
      "    H2O cluster version age:    27 days  \n",
      "    H2O cluster name:           H2O_started_from_R_Shrestha_ems318 \n",
      "    H2O cluster total nodes:    1 \n",
      "    H2O cluster total memory:   3.98 GB \n",
      "    H2O cluster total cores:    8 \n",
      "    H2O cluster allowed cores:  8 \n",
      "    H2O cluster healthy:        TRUE \n",
      "    H2O Connection ip:          localhost \n",
      "    H2O Connection port:        54321 \n",
      "    H2O Connection proxy:       NA \n",
      "    H2O Internal Security:      FALSE \n",
      "    H2O API Extensions:         Amazon S3, Algos, AutoML, Core V3, TargetEncoder, Core V4 \n",
      "    R Version:                  R version 3.6.1 (2019-07-05) \n",
      "\n"
     ]
    }
   ],
   "source": [
    "library(h2o)\n",
    "h2o.init(nthreads = -1)"
   ]
  },
  {
   "cell_type": "code",
   "execution_count": 8,
   "metadata": {},
   "outputs": [
    {
     "name": "stdout",
     "output_type": "stream",
     "text": [
      "  |======================================================================| 100%\n",
      "  |======================================================================| 100%\n"
     ]
    }
   ],
   "source": [
    "# Import ECG train and test data into the H2O cluster\n",
    "train_ecg <- h2o.importFile('ecg_discord_train.csv', header = FALSE)\n",
    "test_ecg <- h2o.importFile('ecg_discord_test.csv', header = FALSE)\n"
   ]
  },
  {
   "cell_type": "code",
   "execution_count": 9,
   "metadata": {},
   "outputs": [
    {
     "name": "stdout",
     "output_type": "stream",
     "text": [
      "  |======================================================================| 100%\n"
     ]
    }
   ],
   "source": [
    "# Train deep autoencoder learning model on \"normal\". training data, y ignored \n",
    "anomaly_model <- h2o.deeplearning(\n",
    " x = names(train_ecg), \n",
    " training_frame = train_ecg, \n",
    " activation = \"Tanh\", \n",
    " autoencoder = TRUE, \n",
    " hidden = c(50,20,50), \n",
    " sparse = TRUE,\n",
    " l1 = 1e-4, \n",
    " epochs = 100)\n"
   ]
  },
  {
   "cell_type": "code",
   "execution_count": 10,
   "metadata": {},
   "outputs": [],
   "source": [
    "# detection app (MSE between output and input layers)\n",
    "recon_error <- h2o.anomaly(anomaly_model, test_ecg)\n"
   ]
  },
  {
   "cell_type": "code",
   "execution_count": 11,
   "metadata": {},
   "outputs": [
    {
     "data": {
      "text/html": [
       "<table>\n",
       "<thead><tr><th scope=col>Reconstruction.MSE</th></tr></thead>\n",
       "<tbody>\n",
       "\t<tr><td> 0.8002445</td></tr>\n",
       "\t<tr><td> 0.9014907</td></tr>\n",
       "\t<tr><td> 0.9353564</td></tr>\n",
       "\t<tr><td> 0.8330189</td></tr>\n",
       "\t<tr><td> 0.8514618</td></tr>\n",
       "\t<tr><td> 0.8898378</td></tr>\n",
       "\t<tr><td> 0.8333144</td></tr>\n",
       "\t<tr><td> 1.0150933</td></tr>\n",
       "\t<tr><td> 0.9668851</td></tr>\n",
       "\t<tr><td> 0.9662630</td></tr>\n",
       "\t<tr><td> 0.9716327</td></tr>\n",
       "\t<tr><td> 0.9388281</td></tr>\n",
       "\t<tr><td> 0.8926688</td></tr>\n",
       "\t<tr><td> 0.8321161</td></tr>\n",
       "\t<tr><td> 0.8706124</td></tr>\n",
       "\t<tr><td> 0.8264399</td></tr>\n",
       "\t<tr><td> 0.9262376</td></tr>\n",
       "\t<tr><td> 0.9237140</td></tr>\n",
       "\t<tr><td> 0.8917072</td></tr>\n",
       "\t<tr><td> 0.9576325</td></tr>\n",
       "\t<tr><td> 3.2511848</td></tr>\n",
       "\t<tr><td>11.5469537</td></tr>\n",
       "\t<tr><td> 9.3120076</td></tr>\n",
       "</tbody>\n",
       "</table>\n"
      ],
      "text/latex": [
       "\\begin{tabular}{r|l}\n",
       " Reconstruction.MSE\\\\\n",
       "\\hline\n",
       "\t  0.8002445\\\\\n",
       "\t  0.9014907\\\\\n",
       "\t  0.9353564\\\\\n",
       "\t  0.8330189\\\\\n",
       "\t  0.8514618\\\\\n",
       "\t  0.8898378\\\\\n",
       "\t  0.8333144\\\\\n",
       "\t  1.0150933\\\\\n",
       "\t  0.9668851\\\\\n",
       "\t  0.9662630\\\\\n",
       "\t  0.9716327\\\\\n",
       "\t  0.9388281\\\\\n",
       "\t  0.8926688\\\\\n",
       "\t  0.8321161\\\\\n",
       "\t  0.8706124\\\\\n",
       "\t  0.8264399\\\\\n",
       "\t  0.9262376\\\\\n",
       "\t  0.9237140\\\\\n",
       "\t  0.8917072\\\\\n",
       "\t  0.9576325\\\\\n",
       "\t  3.2511848\\\\\n",
       "\t 11.5469537\\\\\n",
       "\t  9.3120076\\\\\n",
       "\\end{tabular}\n"
      ],
      "text/markdown": [
       "\n",
       "| Reconstruction.MSE |\n",
       "|---|\n",
       "|  0.8002445 |\n",
       "|  0.9014907 |\n",
       "|  0.9353564 |\n",
       "|  0.8330189 |\n",
       "|  0.8514618 |\n",
       "|  0.8898378 |\n",
       "|  0.8333144 |\n",
       "|  1.0150933 |\n",
       "|  0.9668851 |\n",
       "|  0.9662630 |\n",
       "|  0.9716327 |\n",
       "|  0.9388281 |\n",
       "|  0.8926688 |\n",
       "|  0.8321161 |\n",
       "|  0.8706124 |\n",
       "|  0.8264399 |\n",
       "|  0.9262376 |\n",
       "|  0.9237140 |\n",
       "|  0.8917072 |\n",
       "|  0.9576325 |\n",
       "|  3.2511848 |\n",
       "| 11.5469537 |\n",
       "|  9.3120076 |\n",
       "\n"
      ],
      "text/plain": [
       "   Reconstruction.MSE\n",
       "1   0.8002445        \n",
       "2   0.9014907        \n",
       "3   0.9353564        \n",
       "4   0.8330189        \n",
       "5   0.8514618        \n",
       "6   0.8898378        \n",
       "7   0.8333144        \n",
       "8   1.0150933        \n",
       "9   0.9668851        \n",
       "10  0.9662630        \n",
       "11  0.9716327        \n",
       "12  0.9388281        \n",
       "13  0.8926688        \n",
       "14  0.8321161        \n",
       "15  0.8706124        \n",
       "16  0.8264399        \n",
       "17  0.9262376        \n",
       "18  0.9237140        \n",
       "19  0.8917072        \n",
       "20  0.9576325        \n",
       "21  3.2511848        \n",
       "22 11.5469537        \n",
       "23  9.3120076        "
      ]
     },
     "metadata": {},
     "output_type": "display_data"
    },
    {
     "data": {
      "image/png": "[encoded data removed]",
      "text/plain": [
       "plot without title"
      ]
     },
     "metadata": {},
     "output_type": "display_data"
    }
   ],
   "source": [
    "# Pull reconstruction error data and plot to find outliers(last 3 heartbeats)\n",
    "recon_error <- as.data.frame(recon_error)\n",
    "recon_error\n",
    "plot.ts(recon_error)\n"
   ]
  },
  {
   "cell_type": "code",
   "execution_count": 13,
   "metadata": {},
   "outputs": [
    {
     "name": "stdout",
     "output_type": "stream",
     "text": [
      "  |======================================================================| 100%\n"
     ]
    },
    {
     "data": {
      "text/html": [
       "<table>\n",
       "<thead><tr><th scope=col>reconstr_C1</th><th scope=col>reconstr_C2</th><th scope=col>reconstr_C3</th><th scope=col>reconstr_C4</th><th scope=col>reconstr_C5</th><th scope=col>reconstr_C6</th><th scope=col>reconstr_C7</th><th scope=col>reconstr_C8</th><th scope=col>reconstr_C9</th><th scope=col>reconstr_C10</th><th scope=col>...</th><th scope=col>reconstr_C191</th><th scope=col>reconstr_C192</th><th scope=col>reconstr_C193</th><th scope=col>reconstr_C194</th><th scope=col>reconstr_C195</th><th scope=col>reconstr_C196</th><th scope=col>reconstr_C197</th><th scope=col>reconstr_C198</th><th scope=col>reconstr_C199</th><th scope=col>reconstr_C200</th></tr></thead>\n",
       "<tbody>\n",
       "\t<tr><td>4.841346</td><td>9.7485  </td><td>9.8145  </td><td>9.912   </td><td>9.9875  </td><td>10.027  </td><td>10.1    </td><td>10.158  </td><td>10.1985 </td><td>10.2355 </td><td>...     </td><td>8.636493</td><td>8.667988</td><td>8.734759</td><td>8.800924</td><td>8.872364</td><td>8.911355</td><td>8.938552</td><td>8.938376</td><td>8.962259</td><td>9.016065</td></tr>\n",
       "\t<tr><td>4.841152</td><td>9.7485  </td><td>9.8145  </td><td>9.912   </td><td>9.9875  </td><td>10.027  </td><td>10.1    </td><td>10.158  </td><td>10.1985 </td><td>10.2355 </td><td>...     </td><td>8.636493</td><td>8.667988</td><td>8.734759</td><td>8.800923</td><td>8.872360</td><td>8.911351</td><td>8.938535</td><td>8.938359</td><td>8.962220</td><td>9.016036</td></tr>\n",
       "\t<tr><td>4.841290</td><td>9.7485  </td><td>9.8145  </td><td>9.912   </td><td>9.9875  </td><td>10.027  </td><td>10.1    </td><td>10.158  </td><td>10.1985 </td><td>10.2355 </td><td>...     </td><td>8.636493</td><td>8.667988</td><td>8.734759</td><td>8.800924</td><td>8.872362</td><td>8.911353</td><td>8.938542</td><td>8.938366</td><td>8.962237</td><td>9.016049</td></tr>\n",
       "\t<tr><td>4.841366</td><td>9.7485  </td><td>9.8145  </td><td>9.912   </td><td>9.9875  </td><td>10.027  </td><td>10.1    </td><td>10.158  </td><td>10.1985 </td><td>10.2355 </td><td>...     </td><td>8.636493</td><td>8.667988</td><td>8.734759</td><td>8.800925</td><td>8.872364</td><td>8.911355</td><td>8.938556</td><td>8.938381</td><td>8.962269</td><td>9.016072</td></tr>\n",
       "\t<tr><td>4.841370</td><td>9.7485  </td><td>9.8145  </td><td>9.912   </td><td>9.9875  </td><td>10.027  </td><td>10.1    </td><td>10.158  </td><td>10.1985 </td><td>10.2355 </td><td>...     </td><td>8.636493</td><td>8.667988</td><td>8.734759</td><td>8.800925</td><td>8.872364</td><td>8.911355</td><td>8.938553</td><td>8.938378</td><td>8.962263</td><td>9.016068</td></tr>\n",
       "\t<tr><td>4.841332</td><td>9.7485  </td><td>9.8145  </td><td>9.912   </td><td>9.9875  </td><td>10.027  </td><td>10.1    </td><td>10.158  </td><td>10.1985 </td><td>10.2355 </td><td>...     </td><td>8.636493</td><td>8.667988</td><td>8.734758</td><td>8.800922</td><td>8.872358</td><td>8.911350</td><td>8.938529</td><td>8.938352</td><td>8.962199</td><td>9.016025</td></tr>\n",
       "</tbody>\n",
       "</table>\n"
      ],
      "text/latex": [
       "\\begin{tabular}{r|llllllllllllllllllllllllllllllllllllllllllllllllllllllllllllllllllllllllllllllllllllllllllllllllllllllllllllllllllllllllllllllllllllllllllllllllllllllllllllllllllllllllllllllllllllllllllllllllllllllll}\n",
       " reconstr\\_C1 & reconstr\\_C2 & reconstr\\_C3 & reconstr\\_C4 & reconstr\\_C5 & reconstr\\_C6 & reconstr\\_C7 & reconstr\\_C8 & reconstr\\_C9 & reconstr\\_C10 & ... & reconstr\\_C191 & reconstr\\_C192 & reconstr\\_C193 & reconstr\\_C194 & reconstr\\_C195 & reconstr\\_C196 & reconstr\\_C197 & reconstr\\_C198 & reconstr\\_C199 & reconstr\\_C200\\\\\n",
       "\\hline\n",
       "\t 4.841346 & 9.7485   & 9.8145   & 9.912    & 9.9875   & 10.027   & 10.1     & 10.158   & 10.1985  & 10.2355  & ...      & 8.636493 & 8.667988 & 8.734759 & 8.800924 & 8.872364 & 8.911355 & 8.938552 & 8.938376 & 8.962259 & 9.016065\\\\\n",
       "\t 4.841152 & 9.7485   & 9.8145   & 9.912    & 9.9875   & 10.027   & 10.1     & 10.158   & 10.1985  & 10.2355  & ...      & 8.636493 & 8.667988 & 8.734759 & 8.800923 & 8.872360 & 8.911351 & 8.938535 & 8.938359 & 8.962220 & 9.016036\\\\\n",
       "\t 4.841290 & 9.7485   & 9.8145   & 9.912    & 9.9875   & 10.027   & 10.1     & 10.158   & 10.1985  & 10.2355  & ...      & 8.636493 & 8.667988 & 8.734759 & 8.800924 & 8.872362 & 8.911353 & 8.938542 & 8.938366 & 8.962237 & 9.016049\\\\\n",
       "\t 4.841366 & 9.7485   & 9.8145   & 9.912    & 9.9875   & 10.027   & 10.1     & 10.158   & 10.1985  & 10.2355  & ...      & 8.636493 & 8.667988 & 8.734759 & 8.800925 & 8.872364 & 8.911355 & 8.938556 & 8.938381 & 8.962269 & 9.016072\\\\\n",
       "\t 4.841370 & 9.7485   & 9.8145   & 9.912    & 9.9875   & 10.027   & 10.1     & 10.158   & 10.1985  & 10.2355  & ...      & 8.636493 & 8.667988 & 8.734759 & 8.800925 & 8.872364 & 8.911355 & 8.938553 & 8.938378 & 8.962263 & 9.016068\\\\\n",
       "\t 4.841332 & 9.7485   & 9.8145   & 9.912    & 9.9875   & 10.027   & 10.1     & 10.158   & 10.1985  & 10.2355  & ...      & 8.636493 & 8.667988 & 8.734758 & 8.800922 & 8.872358 & 8.911350 & 8.938529 & 8.938352 & 8.962199 & 9.016025\\\\\n",
       "\\end{tabular}\n"
      ],
      "text/markdown": [
       "\n",
       "| reconstr_C1 | reconstr_C2 | reconstr_C3 | reconstr_C4 | reconstr_C5 | reconstr_C6 | reconstr_C7 | reconstr_C8 | reconstr_C9 | reconstr_C10 | ... | reconstr_C191 | reconstr_C192 | reconstr_C193 | reconstr_C194 | reconstr_C195 | reconstr_C196 | reconstr_C197 | reconstr_C198 | reconstr_C199 | reconstr_C200 |\n",
       "|---|---|---|---|---|---|---|---|---|---|---|---|---|---|---|---|---|---|---|---|---|\n",
       "| 4.841346 | 9.7485   | 9.8145   | 9.912    | 9.9875   | 10.027   | 10.1     | 10.158   | 10.1985  | 10.2355  | ...      | 8.636493 | 8.667988 | 8.734759 | 8.800924 | 8.872364 | 8.911355 | 8.938552 | 8.938376 | 8.962259 | 9.016065 |\n",
       "| 4.841152 | 9.7485   | 9.8145   | 9.912    | 9.9875   | 10.027   | 10.1     | 10.158   | 10.1985  | 10.2355  | ...      | 8.636493 | 8.667988 | 8.734759 | 8.800923 | 8.872360 | 8.911351 | 8.938535 | 8.938359 | 8.962220 | 9.016036 |\n",
       "| 4.841290 | 9.7485   | 9.8145   | 9.912    | 9.9875   | 10.027   | 10.1     | 10.158   | 10.1985  | 10.2355  | ...      | 8.636493 | 8.667988 | 8.734759 | 8.800924 | 8.872362 | 8.911353 | 8.938542 | 8.938366 | 8.962237 | 9.016049 |\n",
       "| 4.841366 | 9.7485   | 9.8145   | 9.912    | 9.9875   | 10.027   | 10.1     | 10.158   | 10.1985  | 10.2355  | ...      | 8.636493 | 8.667988 | 8.734759 | 8.800925 | 8.872364 | 8.911355 | 8.938556 | 8.938381 | 8.962269 | 9.016072 |\n",
       "| 4.841370 | 9.7485   | 9.8145   | 9.912    | 9.9875   | 10.027   | 10.1     | 10.158   | 10.1985  | 10.2355  | ...      | 8.636493 | 8.667988 | 8.734759 | 8.800925 | 8.872364 | 8.911355 | 8.938553 | 8.938378 | 8.962263 | 9.016068 |\n",
       "| 4.841332 | 9.7485   | 9.8145   | 9.912    | 9.9875   | 10.027   | 10.1     | 10.158   | 10.1985  | 10.2355  | ...      | 8.636493 | 8.667988 | 8.734758 | 8.800922 | 8.872358 | 8.911350 | 8.938529 | 8.938352 | 8.962199 | 9.016025 |\n",
       "\n"
      ],
      "text/plain": [
       "  reconstr_C1 reconstr_C2 reconstr_C3 reconstr_C4 reconstr_C5 reconstr_C6\n",
       "1 4.841346    9.7485      9.8145      9.912       9.9875      10.027     \n",
       "2 4.841152    9.7485      9.8145      9.912       9.9875      10.027     \n",
       "3 4.841290    9.7485      9.8145      9.912       9.9875      10.027     \n",
       "4 4.841366    9.7485      9.8145      9.912       9.9875      10.027     \n",
       "5 4.841370    9.7485      9.8145      9.912       9.9875      10.027     \n",
       "6 4.841332    9.7485      9.8145      9.912       9.9875      10.027     \n",
       "  reconstr_C7 reconstr_C8 reconstr_C9 reconstr_C10 ... reconstr_C191\n",
       "1 10.1        10.158      10.1985     10.2355      ... 8.636493     \n",
       "2 10.1        10.158      10.1985     10.2355      ... 8.636493     \n",
       "3 10.1        10.158      10.1985     10.2355      ... 8.636493     \n",
       "4 10.1        10.158      10.1985     10.2355      ... 8.636493     \n",
       "5 10.1        10.158      10.1985     10.2355      ... 8.636493     \n",
       "6 10.1        10.158      10.1985     10.2355      ... 8.636493     \n",
       "  reconstr_C192 reconstr_C193 reconstr_C194 reconstr_C195 reconstr_C196\n",
       "1 8.667988      8.734759      8.800924      8.872364      8.911355     \n",
       "2 8.667988      8.734759      8.800923      8.872360      8.911351     \n",
       "3 8.667988      8.734759      8.800924      8.872362      8.911353     \n",
       "4 8.667988      8.734759      8.800925      8.872364      8.911355     \n",
       "5 8.667988      8.734759      8.800925      8.872364      8.911355     \n",
       "6 8.667988      8.734758      8.800922      8.872358      8.911350     \n",
       "  reconstr_C197 reconstr_C198 reconstr_C199 reconstr_C200\n",
       "1 8.938552      8.938376      8.962259      9.016065     \n",
       "2 8.938535      8.938359      8.962220      9.016036     \n",
       "3 8.938542      8.938366      8.962237      9.016049     \n",
       "4 8.938556      8.938381      8.962269      9.016072     \n",
       "5 8.938553      8.938378      8.962263      9.016068     \n",
       "6 8.938529      8.938352      8.962199      9.016025     "
      ]
     },
     "metadata": {},
     "output_type": "display_data"
    },
    {
     "data": {
      "text/html": [
       "'C:\\\\Users\\\\Shrestha\\\\transformer\\\\Research\\\\R_practice\\\\anomaly_model.bin\\\\DeepLearning_model_R_1623829791449_1'"
      ],
      "text/latex": [
       "'C:\\textbackslash{}\\textbackslash{}Users\\textbackslash{}\\textbackslash{}Shrestha\\textbackslash{}\\textbackslash{}transformer\\textbackslash{}\\textbackslash{}Research\\textbackslash{}\\textbackslash{}R\\_practice\\textbackslash{}\\textbackslash{}anomaly\\_model.bin\\textbackslash{}\\textbackslash{}DeepLearning\\_model\\_R\\_1623829791449\\_1'"
      ],
      "text/markdown": [
       "'C:\\\\Users\\\\Shrestha\\\\transformer\\\\Research\\\\R_practice\\\\anomaly_model.bin\\\\DeepLearning_model_R_1623829791449_1'"
      ],
      "text/plain": [
       "[1] \"C:\\\\Users\\\\Shrestha\\\\transformer\\\\Research\\\\R_practice\\\\anomaly_model.bin\\\\DeepLearning_model_R_1623829791449_1\""
      ]
     },
     "metadata": {},
     "output_type": "display_data"
    }
   ],
   "source": [
    "# Note: Testing = Reconstructing the test dataset\n",
    "test_recon <- h2o.predict(anomaly_model, test_ecg) \n",
    "head(test_recon)\n",
    "h2o.saveModel(anomaly_model,'anomaly_model.bin')\n"
   ]
  },
  {
   "cell_type": "code",
   "execution_count": 14,
   "metadata": {},
   "outputs": [
    {
     "ename": "ERROR",
     "evalue": "Error in h2o.download_pojo(anomaly_model, \"C:\\\\Users\\\\Shrestha\\\\transformer\\\\Research\\\\R_practice\\\\\", : 'path',C:\\Users\\Shrestha\\transformer\\Research\\R_practice\\, to save pojo cannot be found.\n",
     "output_type": "error",
     "traceback": [
      "Error in h2o.download_pojo(anomaly_model, \"C:\\\\Users\\\\Shrestha\\\\transformer\\\\Research\\\\R_practice\\\\\", : 'path',C:\\Users\\Shrestha\\transformer\\Research\\R_practice\\, to save pojo cannot be found.\nTraceback:\n",
      "1. h2o.download_pojo(anomaly_model, \"C:\\\\Users\\\\Shrestha\\\\transformer\\\\Research\\\\R_practice\\\\\", \n .     get_jar = TRUE)",
      "2. stop(paste0(\"'path',\", path, \", to save pojo cannot be found.\"))"
     ]
    }
   ],
   "source": [
    "h2o.download_pojo(anomaly_model, \"C:\\\\Users\\\\Shrestha\\\\transformer\\\\Research\\\\R_practice\\\\\", get_jar = TRUE)"
   ]
  },
  {
   "cell_type": "code",
   "execution_count": null,
   "metadata": {},
   "outputs": [],
   "source": []
  }
 ],
 "metadata": {
  "kernelspec": {
   "display_name": "R",
   "language": "R",
   "name": "ir"
  },
  "language_info": {
   "codemirror_mode": "r",
   "file_extension": ".r",
   "mimetype": "text/x-r-source",
   "name": "R",
   "pygments_lexer": "r",
   "version": "3.6.1"
  }
 },
 "nbformat": 4,
 "nbformat_minor": 4
}
