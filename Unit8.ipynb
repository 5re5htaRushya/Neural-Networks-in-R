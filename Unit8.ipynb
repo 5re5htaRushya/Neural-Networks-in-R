{
 "cells": [
  {
   "cell_type": "code",
   "execution_count": 2,
   "metadata": {},
   "outputs": [
    {
     "name": "stderr",
     "output_type": "stream",
     "text": [
      "also installing the dependencies 'fs', 'rappdirs', 'sass', 'jquerylib', 'httpuv', 'mime', 'xtable', 'digest', 'htmltools', 'sourcetools', 'later', 'promises', 'fastmap', 'commonmark', 'bslib', 'cachem', 'sigmoid', 'shiny'\n",
      "\n"
     ]
    },
    {
     "name": "stdout",
     "output_type": "stream",
     "text": [
      "\n",
      "  There are binary versions available but the source versions are later:\n",
      "       binary  source needs_compilation\n",
      "bslib   0.2.4 0.2.5.1             FALSE\n",
      "cachem  1.0.4   1.0.5              TRUE\n",
      "\n",
      "  Binaries will be installed\n",
      "package 'fs' successfully unpacked and MD5 sums checked\n",
      "package 'rappdirs' successfully unpacked and MD5 sums checked\n",
      "package 'sass' successfully unpacked and MD5 sums checked\n",
      "package 'jquerylib' successfully unpacked and MD5 sums checked\n",
      "package 'httpuv' successfully unpacked and MD5 sums checked\n",
      "package 'mime' successfully unpacked and MD5 sums checked\n",
      "package 'xtable' successfully unpacked and MD5 sums checked\n",
      "package 'digest' successfully unpacked and MD5 sums checked\n"
     ]
    },
    {
     "name": "stderr",
     "output_type": "stream",
     "text": [
      "Warning message:\n",
      "\"cannot remove prior installation of package 'digest'\"Warning message in file.copy(savedcopy, lib, recursive = TRUE):\n",
      "\"problem copying C:\\ProgramData\\Anaconda3\\Lib\\R\\library\\00LOCK\\digest\\libs\\x64\\digest.dll to C:\\ProgramData\\Anaconda3\\Lib\\R\\library\\digest\\libs\\x64\\digest.dll: Permission denied\"Warning message:\n",
      "\"restored 'digest'\""
     ]
    },
    {
     "name": "stdout",
     "output_type": "stream",
     "text": [
      "package 'htmltools' successfully unpacked and MD5 sums checked\n"
     ]
    },
    {
     "name": "stderr",
     "output_type": "stream",
     "text": [
      "Warning message:\n",
      "\"cannot remove prior installation of package 'htmltools'\"Warning message in file.copy(savedcopy, lib, recursive = TRUE):\n",
      "\"problem copying C:\\ProgramData\\Anaconda3\\Lib\\R\\library\\00LOCK\\htmltools\\libs\\x64\\htmltools.dll to C:\\ProgramData\\Anaconda3\\Lib\\R\\library\\htmltools\\libs\\x64\\htmltools.dll: Permission denied\"Warning message:\n",
      "\"restored 'htmltools'\""
     ]
    },
    {
     "name": "stdout",
     "output_type": "stream",
     "text": [
      "package 'sourcetools' successfully unpacked and MD5 sums checked\n",
      "package 'later' successfully unpacked and MD5 sums checked\n",
      "package 'promises' successfully unpacked and MD5 sums checked\n",
      "package 'fastmap' successfully unpacked and MD5 sums checked\n",
      "package 'commonmark' successfully unpacked and MD5 sums checked\n",
      "package 'cachem' successfully unpacked and MD5 sums checked\n",
      "package 'sigmoid' successfully unpacked and MD5 sums checked\n",
      "package 'shiny' successfully unpacked and MD5 sums checked\n",
      "package 'rnn' successfully unpacked and MD5 sums checked\n",
      "\n",
      "The downloaded binary packages are in\n",
      "\tC:\\Users\\Shrestha\\AppData\\Local\\Temp\\Rtmp4IkZaz\\downloaded_packages\n"
     ]
    },
    {
     "name": "stderr",
     "output_type": "stream",
     "text": [
      "installing the source package 'bslib'\n",
      "\n",
      "Warning message in install.packages(\"rnn\"):\n",
      "\"installation of package 'bslib' had non-zero exit status\""
     ]
    }
   ],
   "source": [
    "install.packages('rnn')"
   ]
  },
  {
   "cell_type": "code",
   "execution_count": 25,
   "metadata": {},
   "outputs": [
    {
     "ename": "ERROR",
     "evalue": "Error in eval(expr, envir, enclos): object 'rnn' not found\n",
     "output_type": "error",
     "traceback": [
      "Error in eval(expr, envir, enclos): object 'rnn' not found\nTraceback:\n"
     ]
    }
   ],
   "source": [
    "rnn"
   ]
  },
  {
   "cell_type": "code",
   "execution_count": 24,
   "metadata": {},
   "outputs": [],
   "source": [
    "trainr <- function(Y, X, model = NULL,learningrate, learningrate_decay = 1, momentum = 0, hidden_dim = c(10),network_type = \"rnn\",\n",
    "                   numepochs = 1, sigmoid = c('logistic', 'Gompertz', 'tanh'), use_bias = F, batch_size = 1,\n",
    "                   seq_to_seq_unsync=F,update_rule = \"sgd\",\n",
    "                   epoch_function = c(epoch_print,epoch_annealing),\n",
    "                   loss_function = loss_L1,...) {\n",
    "  \n",
    "  #  find sigmoid\n",
    "  sigmoid <- match.arg(sigmoid)\n",
    "  \n",
    "  # coerce to array if matrix\n",
    "  if(length(dim(X)) == 2){\n",
    "    X <- array(X,dim=c(dim(X),1))\n",
    "  }\n",
    "  if(length(dim(Y)) == 2){\n",
    "    Y <- array(Y,dim=c(dim(Y),1))\n",
    "  }\n",
    "  \n",
    "  if(seq_to_seq_unsync){\n",
    "    time_dim_input = dim(X)[2]\n",
    "    store = array(0, dim = c(dim(X)[1],dim(X)[2]+dim(Y)[2]-1,dim(X)[3]))\n",
    "    store[,1:dim(X)[2],] = X\n",
    "    X = store\n",
    "    store = array(0, dim = c(dim(X)[1],time_dim_input+dim(Y)[2]-1,dim(Y)[3]))\n",
    "    store[,time_dim_input:dim(store)[2],] = Y\n",
    "    Y = store\n",
    "  }\n",
    "  \n",
    "  # check the consistency\n",
    "  if(dim(X)[2] != dim(Y)[2] && !seq_to_seq_unsync){\n",
    "    stop(\"The time dimension of X is different from the time dimension of Y. seq_to_seq_unsync is set to FALSE\")\n",
    "  }\n",
    "  if(dim(X)[1] != dim(Y)[1]){\n",
    "    stop(\"The sample dimension of X is different from the sample dimension of Y.\")\n",
    "  }\n",
    "  \n",
    "  \n",
    "  # reverse the time dim if start from end\n",
    "  # if(start_from_end){\n",
    "  #   X <- X[,dim(X)[2]:1,,drop = F]\n",
    "  #   Y <- Y[,dim(X)[2]:1,,drop = F]\n",
    "  # }\n",
    "  \n",
    "  if(is.null(model)){\n",
    "    # initialize the model list\n",
    "    model                         = list(...) # we start by the ... argument before appending everybody else\n",
    "    model$input_dim               = dim(X)[3]\n",
    "    model$hidden_dim              = hidden_dim\n",
    "    model$output_dim              = dim(Y)[3]\n",
    "    model$synapse_dim             = c(model$input_dim,model$hidden_dim,model$output_dim)\n",
    "    model$time_dim                = dim(X)[2] ## changed from binary_dim to get rid of the binary user case legacy\n",
    "    model$sigmoid                 = sigmoid\n",
    "    model$network_type            = network_type\n",
    "    model$numepochs               = numepochs\n",
    "    model$batch_size              = batch_size\n",
    "    model$learningrate            = learningrate\n",
    "    model$learningrate_decay      = learningrate_decay ## this one should be in the ... arg and be here initially but he was supply before\n",
    "    model$momentum                = momentum\n",
    "    model$update_rule             = update_rule\n",
    "    model$use_bias                = use_bias\n",
    "    model$seq_to_seq_unsync       = seq_to_seq_unsync\n",
    "    model$epoch_function          = epoch_function\n",
    "    model$loss_function           = loss_function\n",
    "    model$last_layer_error        = Y*0\n",
    "    model$last_layer_delta        = Y*0\n",
    "    \n",
    "    if(\"epoch_model_function\" %in% names(model)){\n",
    "      stop(\"epoch_model_function is not used anymore, use epoch_function and return the model inside.\")\n",
    "    }\n",
    "    \n",
    "    if(seq_to_seq_unsync){ ## this will work for the training, we need something to make in work for the predictr\n",
    "      model$time_dim_input = time_dim_input\n",
    "    }\n",
    "    \n",
    "    if(model$update_rule == \"adagrad\"){\n",
    "      message(\"adagrad update, loss function not used and momentum set to 0\")\n",
    "      model$momentum = 0\n",
    "    }\n",
    "    \n",
    "    model <- init_r(model)\n",
    "    \n",
    "    # Storing errors, dim 1: samples, dim 2 is epochs, we could store also the time and variable dimension\n",
    "    model$error <- array(0,dim = c(dim(Y)[1],model$numepochs))\n",
    "  }else{\n",
    "    message(\"retraining, all options except X, Y and the model itself are ignored, error are reseted\")\n",
    "    if(model$input_dim != dim(X)[3]){\n",
    "      stop(\"input dim changed\")\n",
    "    }\n",
    "    if(model$time_dim != dim(X)[2]){\n",
    "      stop(\"time dim changed\")\n",
    "    }\n",
    "    if(model$output_dim != dim(Y)[3]){\n",
    "      stop(\"output dim changed\")\n",
    "    }\n",
    "    if(seq_to_seq_unsync && model$time_dim_input != time_dim_input){ ## this will work for the training, we need something to make in work for the predictr\n",
    "      stop(\"time input dim changed\")\n",
    "    }\n",
    "    \n",
    "    # Storing errors, dim 1: samples, dim 2 is epochs, we could store also the time and variable dimension\n",
    "    model$error <- array(0,dim = c(dim(Y)[1],model$numepochs))\n",
    "  }\n",
    "  \n",
    "  \n",
    "  # training logic\n",
    "  for(epoch in seq(model$numepochs)){\n",
    "    model$current_epoch = epoch\n",
    "    index = sample(seq(round(dim(Y)[1]/model$batch_size)),dim(Y)[1],replace = T)\n",
    "    lj = list()\n",
    "    for(i in seq(round(dim(Y)[1]/model$batch_size))){lj[[i]] = seq(dim(Y)[1])[index == i]}\n",
    "    lj[unlist(lapply(lj,length)) <1] = NULL\n",
    "    \n",
    "    for (j in lj) {\n",
    "      # generate input and output for the sample loop\n",
    "      a = X[j,,,drop=F]\n",
    "      c = Y[j,,,drop=F]\n",
    "      \n",
    "      # feed forward\n",
    "      store = predictr(model,a,hidden = T,real_output = F)\n",
    "      if(model$network_type == \"rnn\"){\n",
    "        for(i in seq(length(model$synapse_dim) - 1)){\n",
    "          model$store[[i]][j,,] = store[[i]]\n",
    "        }\n",
    "      }else if(model$network_type == \"lstm\" | model$network_type == \"gru\" ){\n",
    "        for(i in seq(length(model$hidden_dim))){\n",
    "          model$store[[i]][j,,,] = store[[i]]\n",
    "        }\n",
    "        model$store[[length(model$hidden_dim)+1]][j,,] = store[[length(model$hidden_dim)+1]] # output\n",
    "      }\n",
    "      \n",
    "      \n",
    "      # apply back propagation\n",
    "      model = backprop_r(model,a,c,j)\n",
    "      \n",
    "      # apply the loss function, default is to apply L1 learning rate, vocabulary to verify.\n",
    "      if(model$update_rule == \"sgd\"){\n",
    "        model = model$loss_function(model)\n",
    "      }\n",
    "      \n",
    "      # Applying the update\n",
    "      model = update_r(model)\n",
    "      \n",
    "    } # end sample loop\n",
    "    \n",
    "    # epoch_function\n",
    "    for(i in model$epoch_function){\n",
    "      model <- i(model)\n",
    "      if(!is.list(model)){stop(\"one epoch function didn't return the model.\")}\n",
    "    }\n",
    "    \n",
    "  } # end epoch loop\n",
    "  \n",
    "  # update best guess if error is minimal, will make more sens to store the weight...\n",
    "  if(colMeans(model$error)[epoch] <= min(colMeans(model$error)[1:epoch])){\n",
    "    model$store_best <- model$store\n",
    "  }\n",
    "  \n",
    "  # clean model object, get rid of the update mainly, potentially other cleaning if not necessary in predictr\n",
    "  # model = clean_r(model)\n",
    "  \n",
    "  attr(model, 'error') <- colMeans(model$error)\n",
    "  \n",
    "  # return output\n",
    "  return(model)\n",
    "  \n",
    "}"
   ]
  },
  {
   "cell_type": "code",
   "execution_count": 22,
   "metadata": {},
   "outputs": [
    {
     "name": "stderr",
     "output_type": "stream",
     "text": [
      "Warning message:\n",
      "\"package 'trainr' is not available (for R version 3.6.1)\"Warning message:\n",
      "\"Perhaps you meant 'trainR' ?\""
     ]
    }
   ],
   "source": [
    "install.packages('trainr')"
   ]
  },
  {
   "cell_type": "code",
   "execution_count": 23,
   "metadata": {},
   "outputs": [
    {
     "ename": "ERROR",
     "evalue": "Error in eval(expr, envir, enclos): object 'predictr' not found\n",
     "output_type": "error",
     "traceback": [
      "Error in eval(expr, envir, enclos): object 'predictr' not found\nTraceback:\n"
     ]
    }
   ],
   "source": [
    "predictr"
   ]
  },
  {
   "cell_type": "code",
   "execution_count": 3,
   "metadata": {},
   "outputs": [
    {
     "name": "stderr",
     "output_type": "stream",
     "text": [
      "Loading required package: rnn\n",
      "Warning message:\n",
      "\"package 'rnn' was built under R version 3.6.3\"Error: package or namespace load failed for 'rnn' in loadNamespace(i, c(lib.loc, .libPaths()), versionCheck = vI[[i]]):\n",
      " namespace 'htmltools' 0.3.6 is already loaded, but >= 0.5.0.9001 is required\n"
     ]
    }
   ],
   "source": [
    "#Load the necessary packages\n",
    "require(rnn)\n"
   ]
  },
  {
   "cell_type": "code",
   "execution_count": 7,
   "metadata": {},
   "outputs": [],
   "source": [
    "#Function to be used later. Creating Training and Test Data Set\n",
    "dataset <- function(data){\n",
    "x <- y <- c()\n",
    "for (i in 1:(nrow(data)-2))\n",
    "{\n",
    "    x <- append(x, data[i, 2])\n",
    "    y <- append(y, data[i+1, 2])\n",
    "}\n",
    "output <- cbind(x,y)\n",
    "return(output[1:nrow(output)-1,])\n",
    "}\n"
   ]
  },
  {
   "cell_type": "code",
   "execution_count": 8,
   "metadata": {},
   "outputs": [],
   "source": [
    "#Monthly Milk Production: Pounds Per Cow\n",
    "data <- read.table(\"milk.csv\", header = TRUE, sep = \",\")\n"
   ]
  },
  {
   "cell_type": "code",
   "execution_count": 9,
   "metadata": {},
   "outputs": [
    {
     "data": {
      "image/png": "[encoded data removed]",
      "text/plain": [
       "Plot with title \"Monthly Milk Production in Pounds\""
      ]
     },
     "metadata": {},
     "output_type": "display_data"
    }
   ],
   "source": [
    "#Plotting Sequence\n",
    "plot(data[,2], main = \"Monthly Milk Production in Pounds\", xlab = \"Month\", ylab = \"Pounds\", lwd = 1.5, col = \"cadetblue\", type = \"l\")\n"
   ]
  },
  {
   "cell_type": "code",
   "execution_count": 10,
   "metadata": {},
   "outputs": [
    {
     "data": {
      "image/png": "[encoded data removed]",
      "text/plain": [
       "Plot with title \"Histogram of Monthly Milk Production in Pounds\""
      ]
     },
     "metadata": {},
     "output_type": "display_data"
    }
   ],
   "source": [
    "#Ploting Histogram\n",
    "hist(data[,2], main = \"Histogram of Monthly Milk Production in Pounds\", xlab = \"Pounds\", col = \"red\")\n"
   ]
  },
  {
   "cell_type": "code",
   "execution_count": 11,
   "metadata": {},
   "outputs": [],
   "source": [
    "#Creating Test and Training Sets\n",
    "newData <- dataset(data = data)\n"
   ]
  },
  {
   "cell_type": "code",
   "execution_count": 12,
   "metadata": {},
   "outputs": [],
   "source": [
    "#Creating Test and Train Data\n",
    "rows <- sample(1:120, 120)\n",
    "trainingData <- scale(newData[rows, ])\n",
    "testData <- scale(newData[-rows, ])\n"
   ]
  },
  {
   "cell_type": "code",
   "execution_count": 13,
   "metadata": {},
   "outputs": [],
   "source": [
    "#Max-Min Scaling\n",
    "x <- trainingData[,1]\n",
    "y <- trainingData[,2]\n",
    "train_x <- (x - min(x))/(max(x)-min(x))\n",
    "train_y <- (y - min(y))/(max(y)-min(y))\n"
   ]
  },
  {
   "cell_type": "code",
   "execution_count": 16,
   "metadata": {},
   "outputs": [
    {
     "ename": "ERROR",
     "evalue": "Error in trainr(Y = as.matrix(train_x), X = as.matrix(train_y), learningrate = 0.04, : could not find function \"trainr\"\n",
     "output_type": "error",
     "traceback": [
      "Error in trainr(Y = as.matrix(train_x), X = as.matrix(train_y), learningrate = 0.04, : could not find function \"trainr\"\nTraceback:\n"
     ]
    }
   ],
   "source": [
    "#RNN Model\n",
    "RNN <- trainr(Y = as.matrix(train_x),X = as.matrix(train_y),\n",
    "learningrate = 0.04, momentum = 0.1, network_type = \"rnn\", \n",
    "numepochs = 700, hidden_dim = 3)\n",
    "y_h <- predictr(RNN, as.matrix(train_x))\n"
   ]
  },
  {
   "cell_type": "code",
   "execution_count": 27,
   "metadata": {},
   "outputs": [
    {
     "name": "stderr",
     "output_type": "stream",
     "text": [
      "also installing the dependency 'data.table'\n",
      "\n"
     ]
    },
    {
     "name": "stdout",
     "output_type": "stream",
     "text": [
      "package 'data.table' successfully unpacked and MD5 sums checked\n",
      "package 'mltools' successfully unpacked and MD5 sums checked\n",
      "\n",
      "The downloaded binary packages are in\n",
      "\tC:\\Users\\Shrestha\\AppData\\Local\\Temp\\Rtmp4IkZaz\\downloaded_packages\n"
     ]
    }
   ],
   "source": [
    "install.packages('mltools')"
   ]
  },
  {
   "cell_type": "code",
   "execution_count": 26,
   "metadata": {},
   "outputs": [
    {
     "ename": "ERROR",
     "evalue": "Error in library(mltools): there is no package called 'mltools'\n",
     "output_type": "error",
     "traceback": [
      "Error in library(mltools): there is no package called 'mltools'\nTraceback:\n",
      "1. library(mltools)"
     ]
    }
   ],
   "source": [
    "library(mltools)"
   ]
  },
  {
   "cell_type": "code",
   "execution_count": null,
   "metadata": {},
   "outputs": [],
   "source": []
  }
 ],
 "metadata": {
  "kernelspec": {
   "display_name": "R",
   "language": "R",
   "name": "ir"
  },
  "language_info": {
   "codemirror_mode": "r",
   "file_extension": ".r",
   "mimetype": "text/x-r-source",
   "name": "R",
   "pygments_lexer": "r",
   "version": "3.6.1"
  }
 },
 "nbformat": 4,
 "nbformat_minor": 4
}
